{
 "cells": [
  {
   "cell_type": "markdown",
   "id": "23cf172a",
   "metadata": {},
   "source": [
    "Fire prediction data is overlaid on Sentinel 2 imagery"
   ]
  },
  {
   "cell_type": "code",
   "execution_count": null,
   "id": "78207927",
   "metadata": {},
   "outputs": [],
   "source": [
    "import os\n",
    "import sys\n",
    "import time\n",
    "import glob\n",
    "import geojson\n",
    "import requests\n",
    "import datetime\n",
    "import numpy as np\n",
    "import pandas as pd\n",
    "import geopandas as gpd\n",
    "import pyproj\n",
    "import matplotlib.pyplot as plt\n",
    "from shapely.geometry import Point, Polygon\n",
    "from shapely.ops import transform\n",
    "# Polygon function conflict with shapely Polygon, just import ipyleaflet here to avoid it\n",
    "import ipyleaflet \n",
    "# from ipyleaflet import Map, LegendControl,basemaps, GeoJSON, GeoData,ImageOverlay,Heatmap,LocalTileLayer\n",
    "# from ipyleaflet import ZoomControl,SplitMapControl,LayersControl,projections,FullScreenControl,Polygon\n",
    "from ipywidgets import Layout\n",
    "\n",
    "IMAGE_SIZE = 64\n",
    "GRID_RES   = 500 #m, only works for UTM\n",
    "EPSG_MAP = ipyleaflet.projections.EPSG3857"
   ]
  },
  {
   "cell_type": "code",
   "execution_count": 2,
   "id": "49092686",
   "metadata": {},
   "outputs": [],
   "source": [
    "PIXEL_RES = 500\n",
    "\n",
    "def get_geojson_bbox_crs_ID(geojson_path):\n",
    "    with open(geojson_path) as f:\n",
    "        gj = geojson.load(f)\n",
    "    features = gj['features'][0]\n",
    "    poly = Polygon(features[\"geometry\"][\"coordinates\"][0])\n",
    "    crs = gj['crs']['properties']['name']\n",
    "    crs = crs.split(\"::\")[1]\n",
    "    return poly,crs\n",
    "\n",
    "def polygon_utm_to_wgs(poly,crs,reverse=False):\n",
    "    crs_wgs84 = pyproj.CRS('EPSG:4326')\n",
    "    crs_utm   = pyproj.CRS(f'EPSG:{crs}')\n",
    "    if reverse:\n",
    "        project = pyproj.Transformer.from_crs(crs_wgs84,crs_utm,always_xy=True).transform\n",
    "    else:\n",
    "        project = pyproj.Transformer.from_crs(crs_utm,crs_wgs84,always_xy=True).transform\n",
    "    poly_wgs84 = transform(project, poly)\n",
    "    return poly_wgs84\n",
    "\n",
    "def get_fire_data(fire_npy_path,bbox_raw,crs):\n",
    "    # read fire data npy data\n",
    "    # return geopandas dataframe for each pixels\n",
    "    if 'probabilities' in fire_npy_path:\n",
    "        fire_thres = 0.5\n",
    "        fire_arr = np.load(fire_npy_path)[:,:,0]\n",
    "    else:\n",
    "        fire_thres = 0\n",
    "        fire_arr = np.load(fire_npy_path)\n",
    "    npy_x_list,npy_y_list = np.where(fire_arr>fire_thres)\n",
    "    minx, miny, maxx, maxy = bbox_raw.bounds\n",
    "    fire_utm_y_list = minx + npy_y_list*PIXEL_RES\n",
    "    fire_utm_x_list = maxy - npy_x_list*PIXEL_RES\n",
    "    n_fire = len(fire_utm_y_list)\n",
    "    fire_lon_list = np.zeros(n_fire)\n",
    "    fire_lat_list = np.zeros(n_fire)\n",
    "    \n",
    "    #place holder for frp\n",
    "    fire_frp_list = fire_arr[npy_x_list,npy_y_list]\n",
    "    polygon_list  = []\n",
    "    \n",
    "    for ind,(utm_x,utm_y) in enumerate(zip(fire_utm_y_list,fire_utm_x_list)):\n",
    "        fire_point_wgs84 = polygon_utm_to_wgs(Point(utm_x,utm_y),crs)\n",
    "        fire_lon_list[ind] = fire_point_wgs84.x\n",
    "        fire_lat_list[ind] = fire_point_wgs84.y\n",
    "        polygon = []\n",
    "        four_corners = [[utm_x,utm_y],\n",
    "                       [utm_x+PIXEL_RES,utm_y],\n",
    "                       [utm_x+PIXEL_RES,utm_y+PIXEL_RES],\n",
    "                       [utm_x,utm_y+PIXEL_RES],\n",
    "                       [utm_x,utm_y]]\n",
    "        for ix,iy in four_corners:\n",
    "            point_wgs84 = polygon_utm_to_wgs(Point(ix,iy),crs)\n",
    "            polygon.append((point_wgs84.y,point_wgs84.x))\n",
    "        polygon_list.append(polygon)\n",
    "    df = pd.DataFrame({\n",
    "        'npy_x':npy_x_list,\n",
    "        'npy_y':npy_y_list,\n",
    "        'utm_x':fire_utm_y_list,\n",
    "        'utm_y':fire_utm_x_list,\n",
    "        'frp':fire_frp_list,\n",
    "        'Longitude':fire_lon_list,\n",
    "        'Latitude':fire_lat_list,\n",
    "        'polygon':polygon_list\n",
    "    })\n",
    "    gdf = gpd.GeoDataFrame(df, geometry=gpd.points_from_xy(df.Longitude, df.Latitude))\n",
    "    return gdf\n",
    "\n",
    "def get_bbox_from_central_latlon(lat,lon,box_boundary = 0.01):\n",
    "    left   = lon-box_boundary\n",
    "    right  = lon+box_boundary\n",
    "    bottom = lat-box_boundary\n",
    "    top    = lat+box_boundary\n",
    "    bbox = f\"{left},{bottom},{right},{top}\"\n",
    "    return bbox\n",
    "\n",
    "def roi_bbox_to_geojson(bbox,buffer = 0):\n",
    "    left, bottom, right, top = [float(i) for i in bbox.split(',')]\n",
    "    left   = left-buffer\n",
    "    right  = right+buffer\n",
    "    bottom = bottom-buffer\n",
    "    top    = top+buffer\n",
    "    roi_poly = [[left,top],\n",
    "                [right,top],\n",
    "                [right,bottom],\n",
    "                [left,bottom],\n",
    "                [left,top]]\n",
    "    roi_poly = {'type': 'Polygon', 'coordinates': [roi_poly]}\n",
    "    return roi_poly"
   ]
  },
  {
   "cell_type": "code",
   "execution_count": 3,
   "id": "8c48d99c",
   "metadata": {},
   "outputs": [],
   "source": [
    "case_list =[37557,37571] # 20211006-20211007"
   ]
  },
  {
   "cell_type": "code",
   "execution_count": 5,
   "id": "124c57ea",
   "metadata": {},
   "outputs": [
    {
     "name": "stdout",
     "output_type": "stream",
     "text": [
      "66\n"
     ]
    },
    {
     "name": "stderr",
     "output_type": "stream",
     "text": [
      "/tmp/ipykernel_16802/1521478732.py:14: FutureWarning: The frame.append method is deprecated and will be removed from pandas in a future version. Use pandas.concat instead.\n",
      "  gdf_fire_predict = gdf_fire_predict.append(gdf_fire, ignore_index=True)\n"
     ]
    }
   ],
   "source": [
    "# load predicted data\n",
    "for ind,test_id in enumerate(case_list):\n",
    "    geojson_path = os.path.join(str(test_id),\"bbox.geojson\")\n",
    "    fire_npy_path = os.path.join(str(test_id),\"probabilities.npy\")\n",
    "    poly_raw,crs    = get_geojson_bbox_crs_ID(geojson_path)\n",
    "    poly_wgs84  = polygon_utm_to_wgs(poly_raw,crs)\n",
    "    central_wgs84 = poly_wgs84.centroid\n",
    "    lon = central_wgs84.x\n",
    "    lat = central_wgs84.y\n",
    "    gdf_fire = get_fire_data(fire_npy_path,poly_raw,crs)\n",
    "    if ind == 0:\n",
    "        gdf_fire_predict = gdf_fire\n",
    "    else:\n",
    "        gdf_fire_predict = gdf_fire_predict.append(gdf_fire, ignore_index=True)\n",
    "print (len(gdf_fire_predict))"
   ]
  },
  {
   "cell_type": "code",
   "execution_count": 6,
   "id": "ef95b62b",
   "metadata": {},
   "outputs": [
    {
     "name": "stdout",
     "output_type": "stream",
     "text": [
      "https://sentinel-cogs.s3.us-west-2.amazonaws.com/sentinel-s2-l2a-cogs/14/U/PA/2021/8/S2B_14UPA_20210818_0_L2A/TCI.tif\n",
      "https://sentinel-cogs.s3.us-west-2.amazonaws.com/sentinel-s2-l2a-cogs/14/U/PA/2021/10/S2B_14UPA_20211007_0_L2A/TCI.tif\n"
     ]
    }
   ],
   "source": [
    "# get s2 before and after burning image\n",
    "\n",
    "bbox = get_bbox_from_central_latlon(lat,lon,0.02)\n",
    "roi_poly = roi_bbox_to_geojson(bbox)\n",
    "\n",
    "\n",
    "date_str_preburn  = f\"2021-08-01T00:00:00Z/2021-08-20T00:00:00Z\"\n",
    "date_str_postburn = f\"2021-10-06T00:00:00Z/2021-10-09T00:00:00Z\"\n",
    "\n",
    "stac_items_preburn = requests.post(f'https://earth-search.aws.element84.com/v0/collections/sentinel-s2-l2a-cogs/items/',\n",
    "                        json={'intersects': roi_poly, \n",
    "#                               'query': {'eo:cloud_cover': {'lt': 5, 'gt':0}},\n",
    "                             'datetime': date_str_preburn}).json()\n",
    "preburn_url = stac_items_preburn['features'][0]['assets']['visual']['href']\n",
    "\n",
    "\n",
    "stac_items_postburn = requests.post(f'https://earth-search.aws.element84.com/v0/collections/sentinel-s2-l2a-cogs/items/',\n",
    "                        json={'intersects': roi_poly, \n",
    "#                               'query': {'eo:cloud_cover': {'lt': 5, 'gt':0}},\n",
    "                             'datetime': date_str_postburn}).json()\n",
    "postburn_url = stac_items_postburn['features'][0]['assets']['visual']['href']\n",
    "print (preburn_url)\n",
    "print (postburn_url)"
   ]
  },
  {
   "cell_type": "code",
   "execution_count": 7,
   "id": "ff3292c9",
   "metadata": {},
   "outputs": [
    {
     "data": {
      "application/vnd.jupyter.widget-view+json": {
       "model_id": "a637e769024f4066b58059ff94b47893",
       "version_major": 2,
       "version_minor": 0
      },
      "text/plain": [
       "Map(center=[49.759750199704285, -96.27155070837365], controls=(ZoomControl(options=['position', 'zoom_in_text'…"
      ]
     },
     "metadata": {},
     "output_type": "display_data"
    }
   ],
   "source": [
    "titiler_url = \"https://titiler.xyz/cog/tiles/WebMercatorQuad/{z}/{x}/{y}\"\n",
    "\n",
    "\n",
    "m = ipyleaflet.Map(center=(lat,lon), \n",
    "    zoom = 12, \n",
    "    basemap= ipyleaflet.basemaps.OpenStreetMap.Mapnik,\n",
    "#         basemap= basemaps.Esri.WorldImagery,\n",
    "    layout=Layout(width='1280px', height='720px'),\n",
    "    crs = EPSG_MAP)\n",
    "\n",
    "for polygon in gdf_fire_predict['polygon']:\n",
    "    multipolygon = ipyleaflet.Polygon(\n",
    "        locations=polygon,\n",
    "        color=\"black\",\n",
    "        fill_color=\"red\",\n",
    "        fill_opacity = 0.1,\n",
    "        fill = True,\n",
    "        weight = 3\n",
    "    )\n",
    "\n",
    "    m.add_layer(multipolygon)\n",
    "\n",
    "tilelayer = ipyleaflet.LocalTileLayer(\n",
    "    path=f'{titiler_url}@1x?url={preburn_url}')\n",
    "tilelayer2 = ipyleaflet.LocalTileLayer(\n",
    "    path=f'{titiler_url}@1x?url={postburn_url}')\n",
    "\n",
    "right_layer = tilelayer2\n",
    "left_layer = tilelayer\n",
    "\n",
    "control = ipyleaflet.SplitMapControl(left_layer=left_layer, right_layer=right_layer)\n",
    "m.add_control(control)\n",
    "m.add_control(ipyleaflet.FullScreenControl())\n",
    "\n",
    "legend = ipyleaflet.LegendControl({\"Predicted Fire\":\"red\"},name='' , position=\"topright\")\n",
    "m.add_control(legend)\n",
    "\n",
    "m"
   ]
  },
  {
   "cell_type": "code",
   "execution_count": null,
   "id": "0cbb3370",
   "metadata": {},
   "outputs": [],
   "source": []
  }
 ],
 "metadata": {
  "kernelspec": {
   "display_name": "Python 3 (ipykernel)",
   "language": "python",
   "name": "python3"
  },
  "language_info": {
   "codemirror_mode": {
    "name": "ipython",
    "version": 3
   },
   "file_extension": ".py",
   "mimetype": "text/x-python",
   "name": "python",
   "nbconvert_exporter": "python",
   "pygments_lexer": "ipython3",
   "version": "3.8.12"
  }
 },
 "nbformat": 4,
 "nbformat_minor": 5
}
