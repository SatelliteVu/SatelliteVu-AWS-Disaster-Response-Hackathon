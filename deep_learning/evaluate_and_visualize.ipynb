{
 "cells": [
  {
   "cell_type": "markdown",
   "id": "2dd89095-4092-4703-bdf2-d2d8cb53278c",
   "metadata": {},
   "source": [
    "[![Open In SageMaker Studio Lab](https://studiolab.sagemaker.aws/studiolab.svg)](https://studiolab.sagemaker.aws/import/github/SatelliteVu/SatelliteVu-AWS-Disaster-Response-Hackathon/blob/main/deep_learning/evaluate_and_visualize.ipynb)\n",
    "\n",
    "In this notebook, we load a trained model and evaluate it using sklearn."
   ]
  },
  {
   "cell_type": "code",
   "execution_count": null,
   "id": "d59259e0-7da1-478a-b6d6-32740bd631a6",
   "metadata": {},
   "outputs": [],
   "source": [
    "import os\n",
    "import sys\n",
    "import glob\n",
    "import numpy as np\n",
    "import keras\n",
    "from PIL import Image\n",
    "import matplotlib.pyplot as plt\n",
    "from matplotlib import colors\n",
    "from sklearn.metrics import accuracy_score\n",
    "from sklearn.metrics import precision_score\n",
    "from sklearn.metrics import recall_score\n",
    "from sklearn.metrics import f1_score\n",
    "from sklearn.metrics import cohen_kappa_score\n",
    "from sklearn.metrics import roc_auc_score\n",
    "from sklearn.metrics import confusion_matrix\n",
    "\n",
    "from config import common_config, dataset_config, training_config, model_config, test_config\n",
    "from datagen import get_dataset\n",
    "import model_resunet"
   ]
  },
  {
   "cell_type": "code",
   "execution_count": null,
   "id": "e25a4d4a-9625-40c6-998b-00493a7f6794",
   "metadata": {},
   "outputs": [],
   "source": [
    "# Parameters\n",
    "input_data_dir = os.path.join(common_config[\"INPUT_DIR\"], \"data\")\n",
    "\n",
    "model_dir = os.path.join(common_config[\"OUTPUT_DIR\"], \"model\")\n",
    "\n",
    "test_dataset_pattern = input_data_dir + dataset_config[\"TEST_DATASET_PATTERN\"]\n",
    "\n",
    "model_pattern = model_dir + \"/*{}*.h5\".format(test_config[\"wandb_model_nickname\"])"
   ]
  },
  {
   "cell_type": "code",
   "execution_count": null,
   "id": "cd3188e6-f0b4-4d65-85ac-35b7dc505fa4",
   "metadata": {},
   "outputs": [],
   "source": [
    "# Look for a model\n",
    "model_paths = glob.glob(model_pattern)\n",
    "if not len(model_paths) == 1:\n",
    "    print(\"One model must be provided.\")\n",
    "    sys.exit()\n",
    "\n",
    "# Define ResUNet model\n",
    "model = model_resunet.get_model([model_config[\"IMG_SIZE\"][0],model_config[\"IMG_SIZE\"][1],len(dataset_config[\"INPUT_FEATURES\"])])\n",
    "\n",
    "# Load model weights\n",
    "model.load_weights(os.path.join(model_paths[0]))"
   ]
  },
  {
   "cell_type": "code",
   "execution_count": null,
   "id": "02b1991c-659a-4523-836d-657297ff316c",
   "metadata": {},
   "outputs": [],
   "source": [
    "# load tf record dataset\n",
    "test_dataset = get_dataset(\n",
    "      test_dataset_pattern,\n",
    "      data_size=model_config[\"IMG_SIZE\"][0],\n",
    "      sample_size=model_config[\"IMG_SIZE\"][0],\n",
    "      batch_size=training_config[\"BATCH_SIZE\"],\n",
    "      num_in_channels=len(dataset_config[\"INPUT_FEATURES\"]),\n",
    "      compression_type=None,\n",
    "      clip_and_normalize=False,\n",
    "      clip_and_rescale=True,\n",
    "      random_crop=False,\n",
    "      center_crop=False,\n",
    "      shuffle=False)"
   ]
  },
  {
   "cell_type": "code",
   "execution_count": null,
   "id": "1411d767-8230-48f7-aece-bd561a0065a7",
   "metadata": {},
   "outputs": [],
   "source": [
    "# Get all samples from TFRecords in arrays\n",
    "first_it = True\n",
    "for x, y in test_dataset:\n",
    "    if first_it:\n",
    "        test_data_inputs = x\n",
    "        test_data_targets = y\n",
    "        first_it = False\n",
    "    else:\n",
    "        test_data_inputs = np.concatenate((test_data_inputs, x), axis=0)        \n",
    "        test_data_targets = np.concatenate((test_data_targets, y), axis=0)        \n",
    "test_data_inputs = np.asarray(test_data_inputs)\n",
    "y_true = np.asarray(test_data_targets)"
   ]
  },
  {
   "cell_type": "code",
   "execution_count": null,
   "id": "edeb918e-9fae-4e2f-80e8-2c5f2d1e029d",
   "metadata": {},
   "outputs": [],
   "source": [
    "# Predict\n",
    "y_pred=list()\n",
    "for sample in test_data_inputs:\n",
    "    sample_exp = np.expand_dims(sample, axis=0)\n",
    "    pred = model.predict(sample_exp)\n",
    "    y_pred.append(pred)\n",
    "masks = np.round(y_pred)"
   ]
  },
  {
   "cell_type": "code",
   "execution_count": null,
   "id": "36a208e7-9b44-465b-baae-8d29544212ff",
   "metadata": {},
   "outputs": [],
   "source": [
    "# Evaluate using sklearn\n",
    "from sklearn.metrics import precision_recall_fscore_support as score\n",
    "\n",
    "# Flatten results before evaluation\n",
    "previous_fire_mask_flat = test_data_inputs[:, :, :, -1].flatten()\n",
    "persistence_mask_flat = previous_fire_mask_flat\n",
    "y_pred_mask_flat = np.expand_dims(np.array(y_pred).squeeze(), axis=-1).flatten()\n",
    "masks_flat = masks.flatten()\n",
    "y_true_flat = y_true.flatten()\n",
    "\n",
    "# Metrics for predicitions\n",
    "# accuracy: (tp + tn) / (p + n)\n",
    "accuracy = accuracy_score(y_true_flat, masks_flat)\n",
    "print('Accuracy: %f' % accuracy)\n",
    "score_a = score(y_true_flat, masks_flat)\n",
    "print(\"score_a\", score_a)\n",
    "# precision tp / (tp + fp)\n",
    "precision = precision_score(y_true_flat, masks_flat)\n",
    "print(\"precision\", precision)\n",
    "# recall: tp / (tp + fn)\n",
    "recall = recall_score(y_true_flat, masks_flat)\n",
    "print('Recall: %f' % recall)\n",
    "# f1: 2 tp / (2 tp + fp + fn)\n",
    "f1 = f1_score(y_true_flat, masks_flat)\n",
    "print('F1 score: %f' % f1)\n",
    "# confusion matrix\n",
    "matrix = confusion_matrix(y_true_flat, masks_flat)\n",
    "print(matrix)\n",
    "\n",
    "# # Metrics for baseline\n",
    "# accuracy: (tp + tn) / (p + n)\n",
    "accuracy = accuracy_score(y_true_flat, persistence_mask_flat)\n",
    "print('Accuracy: %f' % accuracy)\n",
    "score_a = score(y_true_flat, persistence_mask_flat)\n",
    "print(\"score_a\", score_a)\n",
    "# precision tp / (tp + fp)\n",
    "precision = precision_score(y_true_flat, persistence_mask_flat)\n",
    "print(\"precision\", precision)\n",
    "# recall: tp / (tp + fn)\n",
    "recall = recall_score(y_true_flat, persistence_mask_flat)\n",
    "print('Recall: %f' % recall)\n",
    "# f1: 2 tp / (2 tp + fp + fn)\n",
    "f1 = f1_score(y_true_flat, persistence_mask_flat)\n",
    "print('F1 score: %f' % f1)\n",
    "# confusion matrix\n",
    "matrix = confusion_matrix(y_true_flat, persistence_mask_flat)\n",
    "print(matrix)"
   ]
  },
  {
   "cell_type": "code",
   "execution_count": null,
   "id": "a5a4cd5e-fa2b-49c5-ba25-7168fe4510e3",
   "metadata": {},
   "outputs": [],
   "source": [
    "# Output visualisation\n",
    "output_titles = [\"Input previous day fire mask\", \"Ground truth next day fire mask\", \"Predicted next day fire mask\" ]\n",
    "\n",
    "n_rows = 5\n",
    "n_features = len(output_titles)\n",
    "\n",
    "CMAP = colors.ListedColormap(['silver', 'orangered'])\n",
    "BOUNDS = [0., 1.]\n",
    "NORM = colors.BoundaryNorm(BOUNDS, CMAP.N)\n",
    "\n",
    "fig = plt.figure(figsize=(15,6.5))\n",
    "\n",
    "for i in range(n_rows):\n",
    "    for j in range(n_features):\n",
    "        plt.subplot(n_rows, n_features + 1, i * (n_features + 1) + j + 1)\n",
    "        if i == 0:\n",
    "            plt.title(output_titles[j], fontsize=13)\n",
    "        if j == 0:\n",
    "            plt.imshow(test_data_inputs[i, :, :, -1], cmap=CMAP, norm=NORM) \n",
    "        if j == 1:\n",
    "            plt.imshow(y_true[i, :, :, 0], cmap=CMAP, norm=NORM)\n",
    "        if j == 2:\n",
    "            plt.imshow(masks.squeeze(axis=1)[i, :, :, 0], cmap=CMAP, norm=NORM) \n",
    "        plt.axis('off')\n",
    "plt.tight_layout()"
   ]
  }
 ],
 "metadata": {
  "kernelspec": {
   "display_name": "tensorflow:Python",
   "language": "python",
   "name": "conda-env-tensorflow-py"
  },
  "language_info": {
   "codemirror_mode": {
    "name": "ipython",
    "version": 3
   },
   "file_extension": ".py",
   "mimetype": "text/x-python",
   "name": "python",
   "nbconvert_exporter": "python",
   "pygments_lexer": "ipython3",
   "version": "3.9.7"
  }
 },
 "nbformat": 4,
 "nbformat_minor": 5
}
