{
 "cells": [
  {
   "cell_type": "markdown",
   "metadata": {},
   "source": [
    "[![Open In SageMaker Studio Lab](https://studiolab.sagemaker.aws/studiolab.svg)](https://studiolab.sagemaker.aws/import/github/SatelliteVu/SatelliteVu-AWS-Disaster-Response-Hackathon/blob/main/classical_ml/random_forest.ipynb)\n",
    "\n",
    "Scaling is not necessary for random forests"
   ]
  },
  {
   "cell_type": "code",
   "execution_count": 1,
   "metadata": {
    "collapsed": false,
    "jupyter": {
     "outputs_hidden": false
    }
   },
   "outputs": [],
   "source": [
    "import matplotlib.pyplot as plt\n",
    "import numpy as np\n",
    "import pandas as pd\n",
    "\n",
    "from sklearn import metrics\n",
    "from sklearn.ensemble import RandomForestClassifier\n",
    "\n",
    "from sklearn.model_selection import train_test_split\n",
    "\n",
    "from yellowbrick.classifier import PrecisionRecallCurve\n",
    "from yellowbrick.model_selection import FeatureImportances\n",
    "\n",
    "pd.set_option('mode.chained_assignment', None)"
   ]
  },
  {
   "cell_type": "code",
   "execution_count": 3,
   "metadata": {},
   "outputs": [
    {
     "name": "stdout",
     "output_type": "stream",
     "text": [
      "initial df rows: 59339670\n"
     ]
    }
   ],
   "source": [
    "df = pd.read_csv('data.csv')\n",
    "print(f\"initial df rows: {df.shape[0]}\")\n",
    "df.dropna(inplace=True)\n",
    "df.columns[df.isna().any()].tolist()\n",
    "df['image_index'] = df['image_index'].astype(int)"
   ]
  },
  {
   "cell_type": "code",
   "execution_count": 4,
   "metadata": {},
   "outputs": [
    {
     "data": {
      "text/html": [
       "<div>\n",
       "<style scoped>\n",
       "    .dataframe tbody tr th:only-of-type {\n",
       "        vertical-align: middle;\n",
       "    }\n",
       "\n",
       "    .dataframe tbody tr th {\n",
       "        vertical-align: top;\n",
       "    }\n",
       "\n",
       "    .dataframe thead th {\n",
       "        text-align: right;\n",
       "    }\n",
       "</style>\n",
       "<table border=\"1\" class=\"dataframe\">\n",
       "  <thead>\n",
       "    <tr style=\"text-align: right;\">\n",
       "      <th></th>\n",
       "      <th>todays_frp_0</th>\n",
       "      <th>todays_frp_1</th>\n",
       "      <th>todays_frp_2</th>\n",
       "      <th>todays_frp_3</th>\n",
       "      <th>todays_frp_4</th>\n",
       "      <th>todays_frp_5</th>\n",
       "      <th>todays_frp_6</th>\n",
       "      <th>todays_frp_7</th>\n",
       "      <th>todays_frp_8</th>\n",
       "      <th>elevation_0</th>\n",
       "      <th>...</th>\n",
       "      <th>todays_fires_1</th>\n",
       "      <th>todays_fires_2</th>\n",
       "      <th>todays_fires_3</th>\n",
       "      <th>todays_fires_4</th>\n",
       "      <th>todays_fires_5</th>\n",
       "      <th>todays_fires_6</th>\n",
       "      <th>todays_fires_7</th>\n",
       "      <th>todays_fires_8</th>\n",
       "      <th>tomorrows_fires</th>\n",
       "      <th>image_index</th>\n",
       "    </tr>\n",
       "  </thead>\n",
       "  <tbody>\n",
       "    <tr>\n",
       "      <th>0</th>\n",
       "      <td>0.0</td>\n",
       "      <td>0.0</td>\n",
       "      <td>0.0</td>\n",
       "      <td>0.0</td>\n",
       "      <td>0.0</td>\n",
       "      <td>0.0</td>\n",
       "      <td>0.0</td>\n",
       "      <td>0.0</td>\n",
       "      <td>0.0</td>\n",
       "      <td>55.457222</td>\n",
       "      <td>...</td>\n",
       "      <td>0.0</td>\n",
       "      <td>0.0</td>\n",
       "      <td>0.0</td>\n",
       "      <td>0.0</td>\n",
       "      <td>0.0</td>\n",
       "      <td>0.0</td>\n",
       "      <td>0.0</td>\n",
       "      <td>0.0</td>\n",
       "      <td>0.0</td>\n",
       "      <td>0</td>\n",
       "    </tr>\n",
       "    <tr>\n",
       "      <th>1</th>\n",
       "      <td>0.0</td>\n",
       "      <td>0.0</td>\n",
       "      <td>0.0</td>\n",
       "      <td>0.0</td>\n",
       "      <td>0.0</td>\n",
       "      <td>0.0</td>\n",
       "      <td>0.0</td>\n",
       "      <td>0.0</td>\n",
       "      <td>0.0</td>\n",
       "      <td>57.195850</td>\n",
       "      <td>...</td>\n",
       "      <td>0.0</td>\n",
       "      <td>0.0</td>\n",
       "      <td>0.0</td>\n",
       "      <td>0.0</td>\n",
       "      <td>0.0</td>\n",
       "      <td>0.0</td>\n",
       "      <td>0.0</td>\n",
       "      <td>0.0</td>\n",
       "      <td>0.0</td>\n",
       "      <td>0</td>\n",
       "    </tr>\n",
       "    <tr>\n",
       "      <th>2</th>\n",
       "      <td>0.0</td>\n",
       "      <td>0.0</td>\n",
       "      <td>0.0</td>\n",
       "      <td>0.0</td>\n",
       "      <td>0.0</td>\n",
       "      <td>0.0</td>\n",
       "      <td>0.0</td>\n",
       "      <td>0.0</td>\n",
       "      <td>0.0</td>\n",
       "      <td>59.999035</td>\n",
       "      <td>...</td>\n",
       "      <td>0.0</td>\n",
       "      <td>0.0</td>\n",
       "      <td>0.0</td>\n",
       "      <td>0.0</td>\n",
       "      <td>0.0</td>\n",
       "      <td>0.0</td>\n",
       "      <td>0.0</td>\n",
       "      <td>0.0</td>\n",
       "      <td>0.0</td>\n",
       "      <td>0</td>\n",
       "    </tr>\n",
       "    <tr>\n",
       "      <th>3</th>\n",
       "      <td>0.0</td>\n",
       "      <td>0.0</td>\n",
       "      <td>0.0</td>\n",
       "      <td>0.0</td>\n",
       "      <td>0.0</td>\n",
       "      <td>0.0</td>\n",
       "      <td>0.0</td>\n",
       "      <td>0.0</td>\n",
       "      <td>0.0</td>\n",
       "      <td>58.430490</td>\n",
       "      <td>...</td>\n",
       "      <td>0.0</td>\n",
       "      <td>0.0</td>\n",
       "      <td>0.0</td>\n",
       "      <td>0.0</td>\n",
       "      <td>0.0</td>\n",
       "      <td>0.0</td>\n",
       "      <td>0.0</td>\n",
       "      <td>0.0</td>\n",
       "      <td>0.0</td>\n",
       "      <td>0</td>\n",
       "    </tr>\n",
       "    <tr>\n",
       "      <th>4</th>\n",
       "      <td>0.0</td>\n",
       "      <td>0.0</td>\n",
       "      <td>0.0</td>\n",
       "      <td>0.0</td>\n",
       "      <td>0.0</td>\n",
       "      <td>0.0</td>\n",
       "      <td>0.0</td>\n",
       "      <td>0.0</td>\n",
       "      <td>0.0</td>\n",
       "      <td>56.173134</td>\n",
       "      <td>...</td>\n",
       "      <td>0.0</td>\n",
       "      <td>0.0</td>\n",
       "      <td>0.0</td>\n",
       "      <td>0.0</td>\n",
       "      <td>0.0</td>\n",
       "      <td>0.0</td>\n",
       "      <td>0.0</td>\n",
       "      <td>0.0</td>\n",
       "      <td>0.0</td>\n",
       "      <td>0</td>\n",
       "    </tr>\n",
       "  </tbody>\n",
       "</table>\n",
       "<p>5 rows × 38 columns</p>\n",
       "</div>"
      ],
      "text/plain": [
       "   todays_frp_0  todays_frp_1  todays_frp_2  todays_frp_3  todays_frp_4  \\\n",
       "0           0.0           0.0           0.0           0.0           0.0   \n",
       "1           0.0           0.0           0.0           0.0           0.0   \n",
       "2           0.0           0.0           0.0           0.0           0.0   \n",
       "3           0.0           0.0           0.0           0.0           0.0   \n",
       "4           0.0           0.0           0.0           0.0           0.0   \n",
       "\n",
       "   todays_frp_5  todays_frp_6  todays_frp_7  todays_frp_8  elevation_0  ...  \\\n",
       "0           0.0           0.0           0.0           0.0    55.457222  ...   \n",
       "1           0.0           0.0           0.0           0.0    57.195850  ...   \n",
       "2           0.0           0.0           0.0           0.0    59.999035  ...   \n",
       "3           0.0           0.0           0.0           0.0    58.430490  ...   \n",
       "4           0.0           0.0           0.0           0.0    56.173134  ...   \n",
       "\n",
       "   todays_fires_1  todays_fires_2  todays_fires_3  todays_fires_4  \\\n",
       "0             0.0             0.0             0.0             0.0   \n",
       "1             0.0             0.0             0.0             0.0   \n",
       "2             0.0             0.0             0.0             0.0   \n",
       "3             0.0             0.0             0.0             0.0   \n",
       "4             0.0             0.0             0.0             0.0   \n",
       "\n",
       "   todays_fires_5  todays_fires_6  todays_fires_7  todays_fires_8  \\\n",
       "0             0.0             0.0             0.0             0.0   \n",
       "1             0.0             0.0             0.0             0.0   \n",
       "2             0.0             0.0             0.0             0.0   \n",
       "3             0.0             0.0             0.0             0.0   \n",
       "4             0.0             0.0             0.0             0.0   \n",
       "\n",
       "   tomorrows_fires  image_index  \n",
       "0              0.0            0  \n",
       "1              0.0            0  \n",
       "2              0.0            0  \n",
       "3              0.0            0  \n",
       "4              0.0            0  \n",
       "\n",
       "[5 rows x 38 columns]"
      ]
     },
     "execution_count": 4,
     "metadata": {},
     "output_type": "execute_result"
    }
   ],
   "source": [
    "df.head()"
   ]
  },
  {
   "cell_type": "markdown",
   "metadata": {},
   "source": [
    "Train/test/val split in seperate csv"
   ]
  },
  {
   "cell_type": "code",
   "execution_count": 5,
   "metadata": {},
   "outputs": [
    {
     "data": {
      "text/html": [
       "<div>\n",
       "<style scoped>\n",
       "    .dataframe tbody tr th:only-of-type {\n",
       "        vertical-align: middle;\n",
       "    }\n",
       "\n",
       "    .dataframe tbody tr th {\n",
       "        vertical-align: top;\n",
       "    }\n",
       "\n",
       "    .dataframe thead th {\n",
       "        text-align: right;\n",
       "    }\n",
       "</style>\n",
       "<table border=\"1\" class=\"dataframe\">\n",
       "  <thead>\n",
       "    <tr style=\"text-align: right;\">\n",
       "      <th></th>\n",
       "      <th>sample_id</th>\n",
       "      <th>class</th>\n",
       "    </tr>\n",
       "  </thead>\n",
       "  <tbody>\n",
       "    <tr>\n",
       "      <th>0</th>\n",
       "      <td>0</td>\n",
       "      <td>train</td>\n",
       "    </tr>\n",
       "    <tr>\n",
       "      <th>1</th>\n",
       "      <td>1</td>\n",
       "      <td>train</td>\n",
       "    </tr>\n",
       "    <tr>\n",
       "      <th>2</th>\n",
       "      <td>2</td>\n",
       "      <td>train</td>\n",
       "    </tr>\n",
       "    <tr>\n",
       "      <th>3</th>\n",
       "      <td>3</td>\n",
       "      <td>train</td>\n",
       "    </tr>\n",
       "    <tr>\n",
       "      <th>4</th>\n",
       "      <td>4</td>\n",
       "      <td>train</td>\n",
       "    </tr>\n",
       "  </tbody>\n",
       "</table>\n",
       "</div>"
      ],
      "text/plain": [
       "   sample_id  class\n",
       "0          0  train\n",
       "1          1  train\n",
       "2          2  train\n",
       "3          3  train\n",
       "4          4  train"
      ]
     },
     "execution_count": 5,
     "metadata": {},
     "output_type": "execute_result"
    }
   ],
   "source": [
    "splits_df = pd.read_csv('splits.csv')\n",
    "\n",
    "splits_df.head()"
   ]
  },
  {
   "cell_type": "code",
   "execution_count": 6,
   "metadata": {},
   "outputs": [
    {
     "data": {
      "text/plain": [
       "nan"
      ]
     },
     "execution_count": 6,
     "metadata": {},
     "output_type": "execute_result"
    }
   ],
   "source": [
    "np.nan"
   ]
  },
  {
   "cell_type": "code",
   "execution_count": 7,
   "metadata": {},
   "outputs": [
    {
     "data": {
      "text/plain": [
       "array(['train', 'test', 'eval', nan], dtype=object)"
      ]
     },
     "execution_count": 7,
     "metadata": {},
     "output_type": "execute_result"
    }
   ],
   "source": [
    "splits_df['class'].unique()"
   ]
  },
  {
   "cell_type": "code",
   "execution_count": 8,
   "metadata": {},
   "outputs": [
    {
     "data": {
      "text/plain": [
       "15435"
      ]
     },
     "execution_count": 8,
     "metadata": {},
     "output_type": "execute_result"
    }
   ],
   "source": [
    "df['image_index'].nunique()"
   ]
  },
  {
   "cell_type": "code",
   "execution_count": 9,
   "metadata": {},
   "outputs": [
    {
     "data": {
      "text/plain": [
       "15435"
      ]
     },
     "execution_count": 9,
     "metadata": {},
     "output_type": "execute_result"
    }
   ],
   "source": [
    "splits_df['sample_id'].nunique()"
   ]
  },
  {
   "cell_type": "code",
   "execution_count": 10,
   "metadata": {},
   "outputs": [
    {
     "data": {
      "text/plain": [
       "train    10257\n",
       "eval      1498\n",
       "test      1280\n",
       "Name: class, dtype: int64"
      ]
     },
     "execution_count": 10,
     "metadata": {},
     "output_type": "execute_result"
    }
   ],
   "source": [
    "splits_df['class'].value_counts()"
   ]
  },
  {
   "cell_type": "code",
   "execution_count": 11,
   "metadata": {},
   "outputs": [],
   "source": [
    "def get_test_train_val(df: pd.DataFrame) -> tuple:\n",
    "    \"\"\"\n",
    "    Returns a tuple of train, test, validation dataframes.\n",
    "    \"\"\"\n",
    "    train = df[df['class'] == 'train']['sample_id'].values\n",
    "    test = df[df['class'] == 'test']['sample_id'].values\n",
    "    val = df[df['class'] == 'eval']['sample_id'].values\n",
    "    return train, test, val\n",
    "\n",
    "\n",
    "train_indexes, test_indexes, val_indexes = get_test_train_val(splits_df)"
   ]
  },
  {
   "cell_type": "markdown",
   "metadata": {},
   "source": [
    "Split the dataset to ensure features from a single image are not split into train & validation - keep the final 20% images for test"
   ]
  },
  {
   "cell_type": "code",
   "execution_count": 12,
   "metadata": {},
   "outputs": [],
   "source": [
    "train_df = df[df['image_index'].isin(train_indexes)]\n",
    "test_df = df[df['image_index'].isin(test_indexes)]\n",
    "val_df = df[df['image_index'].isin(val_indexes)]"
   ]
  },
  {
   "cell_type": "code",
   "execution_count": 13,
   "metadata": {},
   "outputs": [],
   "source": [
    "train_df = train_df.sample(frac=0.1, random_state=42) # downsample to 10% of the original data"
   ]
  },
  {
   "cell_type": "markdown",
   "metadata": {},
   "source": [
    "Verify no overlap"
   ]
  },
  {
   "cell_type": "code",
   "execution_count": 14,
   "metadata": {},
   "outputs": [
    {
     "data": {
      "text/plain": [
       "set()"
      ]
     },
     "execution_count": 14,
     "metadata": {},
     "output_type": "execute_result"
    }
   ],
   "source": [
    "set(train_df['image_index'].unique()).intersection(set(test_df['image_index'].unique()))"
   ]
  },
  {
   "cell_type": "code",
   "execution_count": 15,
   "metadata": {},
   "outputs": [],
   "source": [
    "def get_features(df: pd.DataFrame) -> tuple:\n",
    "    \"\"\"convenience to return features and labels\"\"\"\n",
    "    try:\n",
    "        df = df.drop(columns='image_index')\n",
    "    except:\n",
    "        pass # already dropped\n",
    "    features_df = df.loc[:, df.columns != 'tomorrows_fires']\n",
    "    features = features_df.values\n",
    "    feature_names = list(features_df.columns)\n",
    "    targets = df['tomorrows_fires'].values\n",
    "    return features, targets, feature_names\n",
    "\n",
    "X_train, y_train, feature_names = get_features(train_df)\n",
    "X_test, y_test, _ = get_features(test_df)"
   ]
  },
  {
   "cell_type": "code",
   "execution_count": 16,
   "metadata": {},
   "outputs": [
    {
     "name": "stdout",
     "output_type": "stream",
     "text": [
      "(3942791, 36)\n",
      "(3942791,)\n",
      "(4920320, 36)\n",
      "(4920320,)\n"
     ]
    }
   ],
   "source": [
    "print(X_train.shape)\n",
    "print(y_train.shape)\n",
    "\n",
    "print(X_test.shape)\n",
    "print(y_test.shape)"
   ]
  },
  {
   "cell_type": "markdown",
   "metadata": {},
   "source": [
    "## Naive baseline\n",
    "What we expect if we simply use the previous fire mask as prediction"
   ]
  },
  {
   "cell_type": "code",
   "execution_count": 17,
   "metadata": {},
   "outputs": [
    {
     "name": "stdout",
     "output_type": "stream",
     "text": [
      "              precision    recall  f1-score   support\n",
      "\n",
      "         0.0       0.98      0.98      0.98   4750809\n",
      "         1.0       0.37      0.37      0.37    169511\n",
      "\n",
      "    accuracy                           0.96   4920320\n",
      "   macro avg       0.67      0.67      0.67   4920320\n",
      "weighted avg       0.96      0.96      0.96   4920320\n",
      "\n",
      "predicted 172259 fires but true value 169511, ratio 1.0162113373173423\n",
      "Confusion matrix:\n",
      "[[4641481  109328]\n",
      " [ 106580   62931]]\n"
     ]
    },
    {
     "data": {
      "image/png": "[encoded data removed]",
      "text/plain": [
       "<Figure size 576x396 with 2 Axes>"
      ]
     },
     "metadata": {},
     "output_type": "display_data"
    }
   ],
   "source": [
    "# Naive baseline\n",
    "todays_fires_index = feature_names.index('todays_fires_4')\n",
    "test_todays_fires = X_test[:, todays_fires_index].copy()\n",
    "print(f\"{metrics.classification_report(y_test, test_todays_fires)}\")\n",
    "\n",
    "fires_predicted = int(test_todays_fires.sum())\n",
    "true_fires = int(y_test.sum())\n",
    "print(f\"predicted {fires_predicted} fires but true value {true_fires}, ratio {fires_predicted/true_fires}\" )\n",
    "\n",
    "disp = metrics.ConfusionMatrixDisplay.from_predictions(y_test, test_todays_fires)\n",
    "disp.figure_.suptitle(\"Confusion Matrix\")\n",
    "print(f\"Confusion matrix:\\n{disp.confusion_matrix}\")\n",
    "plt.show()\n"
   ]
  },
  {
   "cell_type": "markdown",
   "metadata": {},
   "source": [
    "## Model training\n",
    "\n",
    "Sweep Fire weight\n",
    "\n",
    "| Fire weight  | max_depth   | fire precision  | fire recall | no-fire precision  | no-fire recall |\n",
    "| -----------  | ----------- | -----------     | ----------- | -----------        |    ----------- |\n",
    "| Baseline     | NA          |      0.37       |    0.37     |      0.98          |     0.98       |\n",
    "| 2            | 6           |      0.52       |    0.14     |      0.97          |     1.00       |\n",
    "| 3.25         | 6           |      0.43       |    0.33     |      0.98          |     0.98       |\n",
    "| 4            | 6           |      0.40       |    0.40     |      0.98          |     0.98       |\n",
    "| 4.5          | 6           |      0.38       |    0.43     |      0.98          |     0.98       |\n",
    "| 5            | 6           |      0.37       |    0.45     |      0.98          |     0.97       |\n",
    "\n",
    "\n",
    "Sweep max_depth\n",
    "\n",
    "| Fire weight  | max_depth   | fire precision  | fire recall | no-fire precision  | no-fire recall |\n",
    "| -----------  | ----------- | -----------     | ----------- | -----------        |    ----------- |\n",
    "| Baseline     | NA          |      0.37       |    0.37     |      0.98          |     0.98       |\n",
    "| 3.25         | 6           |      0.43       |    0.33     |      0.98          |     0.98       |\n",
    "| 3.25         | 10          |      0.44       |    0.34     |      0.98          |     0.98       |\n",
    "| 3.25         | 15          |      0.48       |    0.28     |      0.97          |     0.99       |\n",
    "| 4            | 5           |      0.38       |    0.39     |      0.98          |     0.98       |\n",
    "| 4            | 6           |      0.40       |    0.40     |      0.98          |     0.98       |\n",
    "| 4            | 7           |      0.40       |    0.40     |      0.98          |     0.98       |\n",
    "| 4            | 8           |      0.41       |    0.41     |      0.98          |     0.98       |\n",
    "| 4            | 9           |      0.41       |    0.41     |      0.98          |     0.98       |\n",
    "| 4            | 10          |      0.41       |    0.41     |      0.98          |     0.98       |\n",
    "| 4            | 12          |      0.42       |    0.39     |      0.98          |     0.98       |\n",
    "\n",
    "\n",
    "Best result\n",
    "\n",
    "| Fire weight  | max_depth   | fire precision  | fire recall | no-fire precision  | no-fire recall |\n",
    "| -----------  | ----------- | -----------     | ----------- | -----------        |    ----------- |\n",
    "| 4            | 10           |      0.41       |    0.41     |      0.98          |     0.98       |"
   ]
  },
  {
   "cell_type": "code",
   "execution_count": 19,
   "metadata": {
    "collapsed": false,
    "jupyter": {
     "outputs_hidden": false
    }
   },
   "outputs": [
    {
     "name": "stdout",
     "output_type": "stream",
     "text": [
      "              precision    recall  f1-score   support\n",
      "\n",
      "         0.0       0.98      0.98      0.98   4750809\n",
      "         1.0       0.41      0.41      0.41    169511\n",
      "\n",
      "    accuracy                           0.96   4920320\n",
      "   macro avg       0.69      0.69      0.69   4920320\n",
      "weighted avg       0.96      0.96      0.96   4920320\n",
      "\n",
      "CPU times: user 21min 39s, sys: 14.4 s, total: 21min 53s\n",
      "Wall time: 3min 26s\n"
     ]
    }
   ],
   "source": [
    "%%time\n",
    "CLASS_WEIGHT = {0:1.0, 1:4}\n",
    "model = RandomForestClassifier(n_estimators = 100, n_jobs=-1, max_depth=10, class_weight=CLASS_WEIGHT) #  \n",
    "\n",
    "# Learn the digits on the train subset\n",
    "model.fit(X_train, y_train)\n",
    "\n",
    "# Predict the value of the digit on the test subset\n",
    "predicted = model.predict(X_test)\n",
    "print(f\"{metrics.classification_report(y_test, predicted)}\")"
   ]
  },
  {
   "cell_type": "code",
   "execution_count": 20,
   "metadata": {},
   "outputs": [
    {
     "name": "stdout",
     "output_type": "stream",
     "text": [
      "predicted 169089.0 fires but true value 169511.0, ratio 0.998\n",
      "Confusion matrix:\n",
      "[[4650724  100085]\n",
      " [ 100507   69004]]\n"
     ]
    },
    {
     "data": {
      "image/png": "[encoded data removed]",
      "text/plain": [
       "<Figure size 576x396 with 2 Axes>"
      ]
     },
     "metadata": {},
     "output_type": "display_data"
    }
   ],
   "source": [
    "## confustion matrix\n",
    "fires_predicted = model.predict(X_test).sum()\n",
    "true_fires = y_test.sum()\n",
    "print(f\"predicted {fires_predicted} fires but true value {true_fires}, ratio {round(fires_predicted/true_fires, 3)}\" )\n",
    "\n",
    "disp = metrics.ConfusionMatrixDisplay.from_predictions(y_test, predicted)\n",
    "disp.figure_.suptitle(\"Confusion Matrix\")\n",
    "print(f\"Confusion matrix:\\n{disp.confusion_matrix}\")\n",
    "plt.show()"
   ]
  },
  {
   "cell_type": "code",
   "execution_count": null,
   "metadata": {},
   "outputs": [
    {
     "data": {
      "image/png": "[encoded data removed]",
      "text/plain": [
       "<Figure size 576x396 with 1 Axes>"
      ]
     },
     "metadata": {},
     "output_type": "display_data"
    },
    {
     "data": {
      "text/plain": [
       "<AxesSubplot:title={'center':'Feature Importances of 36 Features using RandomForestClassifier'}, xlabel='relative importance'>"
      ]
     },
     "execution_count": 20,
     "metadata": {},
     "output_type": "execute_result"
    }
   ],
   "source": [
    "viz = FeatureImportances(model, labels=feature_names)\n",
    "viz.fit(X_train, y_train)\n",
    "viz.show()"
   ]
  },
  {
   "cell_type": "markdown",
   "metadata": {},
   "source": [
    "## Viz predictions"
   ]
  },
  {
   "cell_type": "code",
   "execution_count": null,
   "metadata": {},
   "outputs": [],
   "source": [
    "df = pd.read_csv('data.csv')\n",
    "\n",
    "df.head()"
   ]
  },
  {
   "cell_type": "markdown",
   "metadata": {},
   "source": [
    "We have the images indexed"
   ]
  },
  {
   "cell_type": "code",
   "execution_count": 21,
   "metadata": {},
   "outputs": [
    {
     "data": {
      "text/plain": [
       "array([1155, 1157, 1158, 1159, 1160])"
      ]
     },
     "execution_count": 21,
     "metadata": {},
     "output_type": "execute_result"
    }
   ],
   "source": [
    "img_indexes = test_df['image_index'].unique()\n",
    "\n",
    "img_indexes[:5]"
   ]
  },
  {
   "cell_type": "code",
   "execution_count": 22,
   "metadata": {},
   "outputs": [],
   "source": [
    "def plot_fire(img_index: int):\n",
    "    df_img = df[df['image_index'] == img_index]\n",
    "    df_img.drop(columns='image_index', inplace=True)\n",
    "    fig, (ax1, ax2, ax3, ax4, ax5) = plt.subplots(1, 5, figsize=(25, 25))\n",
    "    ax1.imshow(df_img['todays_fires_4'].values.reshape(62,62), cmap='inferno')\n",
    "    ax1.set_title('Todays fires')\n",
    "\n",
    "    tomorrows_fires = df_img['tomorrows_fires'].values.reshape(62,62)\n",
    "    ax2.imshow(tomorrows_fires, cmap='inferno')\n",
    "    ax2.set_title('Tomorrows fires (actual)')\n",
    "\n",
    "    features = df_img.loc[:, df_img.columns != 'tomorrows_fires'].values\n",
    "    fires_predicted = model.predict(features).reshape(62,62)\n",
    "    ax3.imshow(fires_predicted, cmap='inferno')\n",
    "    ax3.set_title('Predicted fires')\n",
    "    \n",
    "    fire_union = np.logical_and(tomorrows_fires, fires_predicted)\n",
    "    ax4.imshow(fire_union, cmap='inferno')\n",
    "    ax4.set_title('Correctly predicted fire pixels')\n",
    "\n",
    "    fire_error =  np.abs(fires_predicted - tomorrows_fires)\n",
    "    ax5.imshow(fire_error, cmap='inferno')\n",
    "    ax5.set_title('Error fire pixels')"
   ]
  },
  {
   "cell_type": "code",
   "execution_count": 23,
   "metadata": {},
   "outputs": [
    {
     "name": "stdout",
     "output_type": "stream",
     "text": [
      "1155\n"
     ]
    },
    {
     "data": {
      "image/png": "[encoded data removed]",
      "text/plain": [
       "<Figure size 1800x1800 with 5 Axes>"
      ]
     },
     "metadata": {},
     "output_type": "display_data"
    }
   ],
   "source": [
    "img_index = img_indexes[0]\n",
    "print(int(img_index))\n",
    "plot_fire(img_index)"
   ]
  },
  {
   "cell_type": "code",
   "execution_count": null,
   "metadata": {},
   "outputs": [],
   "source": []
  }
 ],
 "metadata": {
  "interpreter": {
   "hash": "aafdfdf2a477a891d5a071148c895ea18914d2262790416c664cd6c94df184b5"
  },
  "kernelspec": {
   "display_name": ".conda-scipy:Python",
   "language": "python",
   "name": "python3"
  },
  "language_info": {
   "codemirror_mode": {
    "name": "ipython",
    "version": 3
   },
   "file_extension": ".py",
   "mimetype": "text/x-python",
   "name": "python",
   "nbconvert_exporter": "python",
   "pygments_lexer": "ipython3",
   "version": "3.9.7"
  }
 },
 "nbformat": 4,
 "nbformat_minor": 4
}
