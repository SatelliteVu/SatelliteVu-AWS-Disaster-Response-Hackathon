{
 "cells": [
  {
   "cell_type": "markdown",
   "id": "3dcd5b7b-9708-41bd-9a64-53f6a7e5aa9b",
   "metadata": {},
   "source": [
    "[![Open In SageMaker Studio Lab](https://studiolab.sagemaker.aws/studiolab.svg)](https://studiolab.sagemaker.aws/import/github/SatelliteVu/SatelliteVu-AWS-Disaster-Response-Hackathon/blob/main/classical_ml/create_csv.ipynb)\n",
    "\n",
    "Classical ML models were trained on flattened 3x3 pixel patches of imagery. This required transforming the dataset of images to a table of data in csv format, demonstrated in this notebook.\n",
    "\n",
    "- numpy-1.22.1 required for `np.lib.stride_tricks.sliding_window_view`\n",
    "- Note we reject the outermost pixels using a kernel of 3 x 3\n",
    "- each 64x64 image therefore contributes 62*62 = 3844 rows"
   ]
  },
  {
   "cell_type": "code",
   "execution_count": 1,
   "id": "8d820246-f14d-4e23-821c-7a551fc29d4b",
   "metadata": {},
   "outputs": [],
   "source": [
    "from tqdm import tqdm\n",
    "import pandas as pd\n",
    "import s3fs\n",
    "import numpy as np\n",
    "from concurrent.futures import ThreadPoolExecutor\n",
    "from multiprocessing.pool import ThreadPool \n",
    "import os\n",
    "\n",
    "import matplotlib.pyplot as plt\n",
    "from matplotlib import colors\n",
    "\n",
    "def extract_kernel_df(image_arr: np.array, feature: str = \"default\", kernel: int = 3) -> pd.DataFrame:\n",
    "    \"\"\"\n",
    "    Function which takes a 2d image array, applies a kernel \n",
    "    to each pixel, and returns a dataframe where each row is the kernel for a single pixel\n",
    "    and each col is a location on the kernel.\n",
    "    \"\"\"\n",
    "    strided = np.lib.stride_tricks.sliding_window_view(image_arr, (kernel, kernel))\n",
    "    strided_reshaped = strided.reshape(strided.shape[0]*strided.shape[1], kernel*kernel) # flatten the kernel and a row for each pixel\n",
    "    columns = [f\"{feature}_{i}\" for i in range(kernel*kernel)]\n",
    "    return pd.DataFrame(data = strided_reshaped, columns = columns)"
   ]
  },
  {
   "cell_type": "code",
   "execution_count": 2,
   "id": "68e611d8-f4eb-4e9d-9b6b-2394617288c3",
   "metadata": {},
   "outputs": [],
   "source": [
    "fs = s3fs.S3FileSystem()"
   ]
  },
  {
   "cell_type": "markdown",
   "id": "aa495d51-f53e-436b-96fe-315d71475c32",
   "metadata": {},
   "source": [
    "Get features available from a single example"
   ]
  },
  {
   "cell_type": "code",
   "execution_count": 3,
   "id": "63b87116-5036-42a5-bf0b-87656f87dcfb",
   "metadata": {},
   "outputs": [
    {
     "data": {
      "text/plain": [
       "['air_pressure_at_mean_sea_level',\n",
       " 'air_temperature_at_2_metres',\n",
       " 'air_temperature_at_2_metres_1hour_Maximum',\n",
       " 'air_temperature_at_2_metres_1hour_Minimum',\n",
       " 'dew_point_temperature_at_2_metres',\n",
       " 'eastward_wind_at_100_metres',\n",
       " 'eastward_wind_at_10_metres',\n",
       " 'elevation',\n",
       " 'integral_wrt_time_of_surface_direct_downwelling_shortwave_flux_in_air_1hour_Accumulation',\n",
       " 'landcover',\n",
       " 'lwe_thickness_of_surface_snow_amount',\n",
       " 'ndvi',\n",
       " 'northward_wind_at_100_metres',\n",
       " 'northward_wind_at_10_metres',\n",
       " 'precipitation_amount_1hour_Accumulation',\n",
       " 'snow_density',\n",
       " 'surface_air_pressure',\n",
       " 'todays_fires',\n",
       " 'todays_frp',\n",
       " 'tomorrows_fires',\n",
       " 'tomorrows_frp']"
      ]
     },
     "execution_count": 3,
     "metadata": {},
     "output_type": "execute_result"
    }
   ],
   "source": [
    "features = fs.glob('satvu-derived-data/hackathon_data/samples/0/*.npy')\n",
    "features = [f.split('/')[-1].split('.')[0] for f in features]\n",
    "features.remove('sea_surface_temperature')\n",
    "features"
   ]
  },
  {
   "cell_type": "code",
   "execution_count": 4,
   "id": "303a58f8-7c66-4b19-8620-95078b4374c8",
   "metadata": {},
   "outputs": [],
   "source": [
    "# or manually curate\n",
    "\n",
    "features = [\n",
    "    'todays_frp',\n",
    "    'elevation',\n",
    "    'landcover',\n",
    "    'todays_fires',\n",
    "    'tomorrows_fires',\n",
    "]"
   ]
  },
  {
   "cell_type": "markdown",
   "id": "3ec242a0",
   "metadata": {},
   "source": [
    "Samples are split into train/test/eval in a csv, for consistent comparison with the deep learning model."
   ]
  },
  {
   "cell_type": "code",
   "execution_count": 5,
   "id": "4fd923f9",
   "metadata": {},
   "outputs": [
    {
     "data": {
      "text/html": [
       "<div>\n",
       "<style scoped>\n",
       "    .dataframe tbody tr th:only-of-type {\n",
       "        vertical-align: middle;\n",
       "    }\n",
       "\n",
       "    .dataframe tbody tr th {\n",
       "        vertical-align: top;\n",
       "    }\n",
       "\n",
       "    .dataframe thead th {\n",
       "        text-align: right;\n",
       "    }\n",
       "</style>\n",
       "<table border=\"1\" class=\"dataframe\">\n",
       "  <thead>\n",
       "    <tr style=\"text-align: right;\">\n",
       "      <th></th>\n",
       "      <th>sample_id</th>\n",
       "      <th>class</th>\n",
       "    </tr>\n",
       "  </thead>\n",
       "  <tbody>\n",
       "    <tr>\n",
       "      <th>0</th>\n",
       "      <td>0</td>\n",
       "      <td>train</td>\n",
       "    </tr>\n",
       "    <tr>\n",
       "      <th>1</th>\n",
       "      <td>1</td>\n",
       "      <td>train</td>\n",
       "    </tr>\n",
       "    <tr>\n",
       "      <th>2</th>\n",
       "      <td>2</td>\n",
       "      <td>train</td>\n",
       "    </tr>\n",
       "    <tr>\n",
       "      <th>3</th>\n",
       "      <td>3</td>\n",
       "      <td>train</td>\n",
       "    </tr>\n",
       "    <tr>\n",
       "      <th>4</th>\n",
       "      <td>4</td>\n",
       "      <td>train</td>\n",
       "    </tr>\n",
       "  </tbody>\n",
       "</table>\n",
       "</div>"
      ],
      "text/plain": [
       "   sample_id  class\n",
       "0          0  train\n",
       "1          1  train\n",
       "2          2  train\n",
       "3          3  train\n",
       "4          4  train"
      ]
     },
     "execution_count": 5,
     "metadata": {},
     "output_type": "execute_result"
    }
   ],
   "source": [
    "splits_df = pd.read_csv('splits.csv')\n",
    "\n",
    "splits_df.head()"
   ]
  },
  {
   "cell_type": "code",
   "execution_count": 8,
   "id": "7506385a-9290-4558-92b8-afe3e83129bb",
   "metadata": {},
   "outputs": [
    {
     "data": {
      "text/plain": [
       "15435"
      ]
     },
     "execution_count": 8,
     "metadata": {},
     "output_type": "execute_result"
    }
   ],
   "source": [
    "\n",
    "sample_ids = splits_df['sample_id'].unique()\n",
    "len(sample_ids)"
   ]
  },
  {
   "cell_type": "markdown",
   "id": "36184f6d-8518-4e1c-bca5-2d5744021afa",
   "metadata": {},
   "source": [
    "Now loop to extract data from s3 to local dataframe"
   ]
  },
  {
   "cell_type": "code",
   "execution_count": 10,
   "id": "03670180-7a88-4795-b051-caf9e5f58929",
   "metadata": {},
   "outputs": [],
   "source": [
    "# multi thread - kernel extract\n",
    "def get_data_for_sample(id: int) -> pd.DataFrame:\n",
    "    feature_df_list = [] # keep features df in list\n",
    "    for feature in features:\n",
    "        img_arr = np.load(fs.open(f's3://satvu-derived-data/hackathon_data/samples/{id}/{feature}.npy'))\n",
    "        if feature == 'tomorrows_fires': # our target, dont need kernel\n",
    "            img_arr = img_arr[1:-1, 1:-1] # strip outer pixels\n",
    "            feature_df = pd.DataFrame(data = img_arr.flatten(), columns = ['tomorrows_fires'])\n",
    "        else: # all features we use kernel\n",
    "            feature_df = extract_kernel_df(img_arr, feature)\n",
    "        feature_df_list.append(feature_df) # append features\n",
    "    feature_df_list.append(pd.DataFrame(data = np.ones(62*62)*int(id), columns = ['image_index'])) # append features\n",
    "    return pd.concat(feature_df_list, axis=1)"
   ]
  },
  {
   "cell_type": "code",
   "execution_count": 11,
   "id": "3ced5d55-7a8d-4df8-b89e-3ce89339c3ea",
   "metadata": {},
   "outputs": [
    {
     "name": "stderr",
     "output_type": "stream",
     "text": [
      "100%|██████████| 15435/15435 [27:21<00:00,  9.40it/s] \n"
     ]
    },
    {
     "name": "stdout",
     "output_type": "stream",
     "text": [
      "CPU times: user 28min 34s, sys: 1min 5s, total: 29min 40s\n",
      "Wall time: 49min 40s\n"
     ]
    },
    {
     "data": {
      "text/plain": [
       "(59339670, 38)"
      ]
     },
     "execution_count": 11,
     "metadata": {},
     "output_type": "execute_result"
    }
   ],
   "source": [
    "%%time\n",
    "\n",
    "with ThreadPool(os.cpu_count()) as pool:\n",
    "      results = list(tqdm(pool.imap(get_data_for_sample, sample_ids), total=len(sample_ids)))\n",
    "    \n",
    "len(results)\n",
    "\n",
    "df = pd.concat(results, axis=0)\n",
    "df.to_csv('data.csv', index=False)\n",
    "df.shape"
   ]
  },
  {
   "cell_type": "code",
   "execution_count": 15,
   "id": "50b15660-52c2-4c2a-be07-46f8eda5c79e",
   "metadata": {},
   "outputs": [
    {
     "name": "stdout",
     "output_type": "stream",
     "text": [
      "static_fire_pixels: 0.0\n",
      "fire_ave_size: 23.0\n",
      "percent static: 0.0 %\n"
     ]
    },
    {
     "data": {
      "image/png": "[encoded data removed]",
      "text/plain": [
       "<Figure size 720x432 with 2 Axes>"
      ]
     },
     "metadata": {
      "needs_background": "light"
     },
     "output_type": "display_data"
    }
   ],
   "source": [
    "def plot_feature(image_index: int):\n",
    "    frame_size = 62*62\n",
    "    start_index = image_index*frame_size\n",
    "    end_index = (image_index+1)*frame_size\n",
    "    fig, (ax1, ax2) = plt.subplots(1, 2, figsize=(10,6))\n",
    "    today = df[\"todays_fires_4\"].iloc[start_index:end_index].values.reshape(62, 62)\n",
    "    tomorrow = df[\"tomorrows_fires\"].iloc[start_index:end_index].values.reshape(62, 62)\n",
    "    ax1.imshow(today)\n",
    "    ax1.set_title(\"today\")\n",
    "    ax2.imshow(tomorrow)\n",
    "    ax2.set_title(\"tomorrow\")\n",
    "    static_fire_pixels = np.sum(today.flatten()*tomorrow.flatten())\n",
    "    print(f\"static_fire_pixels: {static_fire_pixels}\")\n",
    "    fire_ave_size = np.mean(today.flatten().sum() + tomorrow.flatten().sum())\n",
    "    print(f\"fire_ave_size: {fire_ave_size}\")\n",
    "    print(f\"percent static: {round(100*static_fire_pixels/fire_ave_size, 1)} %\")\n",
    "    \n",
    "image_index = 5\n",
    "plot_feature(image_index)"
   ]
  },
  {
   "cell_type": "code",
   "execution_count": null,
   "id": "4f14f76b",
   "metadata": {},
   "outputs": [],
   "source": []
  }
 ],
 "metadata": {
  "interpreter": {
   "hash": "aafdfdf2a477a891d5a071148c895ea18914d2262790416c664cd6c94df184b5"
  },
  "kernelspec": {
   "display_name": ".conda-tf-cpu:Python",
   "language": "python",
   "name": "python3"
  },
  "language_info": {
   "codemirror_mode": {
    "name": "ipython",
    "version": 3
   },
   "file_extension": ".py",
   "mimetype": "text/x-python",
   "name": "python",
   "nbconvert_exporter": "python",
   "pygments_lexer": "ipython3",
   "version": "3.9.7"
  }
 },
 "nbformat": 4,
 "nbformat_minor": 5
}
