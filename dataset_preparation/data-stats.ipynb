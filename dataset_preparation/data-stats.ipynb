{
 "cells": [
  {
   "cell_type": "markdown",
   "id": "3dcd5b7b-9708-41bd-9a64-53f6a7e5aa9b",
   "metadata": {},
   "source": [
    "[![Open In SageMaker Studio Lab](https://studiolab.sagemaker.aws/studiolab.svg)](https://studiolab.sagemaker.aws/import/github/SatelliteVu/SatelliteVu-AWS-Disaster-Response-Hackathon/blob/main/dataset_preparation/data-stats.ipynb)\n",
    "\n",
    "Open all frames in the dataset, extract reqired statistics, used for standardising the data for the neural network"
   ]
  },
  {
   "cell_type": "code",
   "execution_count": 15,
   "id": "8d820246-f14d-4e23-821c-7a551fc29d4b",
   "metadata": {},
   "outputs": [
    {
     "name": "stdout",
     "output_type": "stream",
     "text": [
      "8\n"
     ]
    }
   ],
   "source": [
    "from tqdm import tqdm\n",
    "import pandas as pd\n",
    "import s3fs\n",
    "import numpy as np\n",
    "from concurrent.futures import ThreadPoolExecutor\n",
    "from multiprocessing.pool import ThreadPool \n",
    "import os\n",
    "\n",
    "print(os.cpu_count())"
   ]
  },
  {
   "cell_type": "code",
   "execution_count": 16,
   "id": "fa8458d8-2c07-4a66-88d1-9aa01dc262ec",
   "metadata": {},
   "outputs": [],
   "source": [
    "def get_stats(img_arr: np.array) -> dict:\n",
    "    \"\"\"Return dict of image stats\"\"\"\n",
    "    \n",
    "    response = {}\n",
    "    response.update({\"min\": float(np.min(img_arr))})\n",
    "    response.update({\"max\": float(np.max(img_arr))})\n",
    "    response.update({\"sum\": float(np.sum(img_arr))})\n",
    "    response.update({\"mean\": float(np.mean(img_arr))})\n",
    "    response.update({\"standard_deviation\": float(np.std(img_arr))})\n",
    "    response.update({\"0_1th_percentile\": float(np.percentile(img_arr, 0.1))})\n",
    "    # response.update({\"1th_percentile\": float(np.percentile(img_arr, 1))})\n",
    "    # response.update({\"5th_percentile\": float(np.percentile(img_arr, 5))})\n",
    "    # response.update({\"25th_percentile\": float(np.percentile(img_arr, 25))})\n",
    "    # response.update({\"75th_percentile\": float(np.percentile(img_arr, 75))})\n",
    "    # response.update({\"95th_percentile\": float(np.percentile(img_arr, 95))})\n",
    "    # response.update({\"99th_percentile\": float(np.percentile(img_arr, 99))})\n",
    "    response.update({\"99_9th_percentile\": float(np.percentile(img_arr, 99.9))})\n",
    "    response.update({\"nan_count\": int(np.isnan(img_arr).sum())})\n",
    "    return response"
   ]
  },
  {
   "cell_type": "code",
   "execution_count": 17,
   "id": "68e611d8-f4eb-4e9d-9b6b-2394617288c3",
   "metadata": {},
   "outputs": [],
   "source": [
    "fs = s3fs.S3FileSystem()"
   ]
  },
  {
   "cell_type": "markdown",
   "id": "aa495d51-f53e-436b-96fe-315d71475c32",
   "metadata": {},
   "source": [
    "Get features available from a single example"
   ]
  },
  {
   "cell_type": "code",
   "execution_count": 18,
   "id": "63b87116-5036-42a5-bf0b-87656f87dcfb",
   "metadata": {},
   "outputs": [
    {
     "data": {
      "text/plain": [
       "['air_pressure_at_mean_sea_level',\n",
       " 'air_temperature_at_2_metres',\n",
       " 'air_temperature_at_2_metres_1hour_Maximum',\n",
       " 'air_temperature_at_2_metres_1hour_Minimum',\n",
       " 'dew_point_temperature_at_2_metres',\n",
       " 'eastward_wind_at_100_metres',\n",
       " 'eastward_wind_at_10_metres',\n",
       " 'elevation',\n",
       " 'integral_wrt_time_of_surface_direct_downwelling_shortwave_flux_in_air_1hour_Accumulation',\n",
       " 'landcover',\n",
       " 'lwe_thickness_of_surface_snow_amount',\n",
       " 'ndvi',\n",
       " 'northward_wind_at_100_metres',\n",
       " 'northward_wind_at_10_metres',\n",
       " 'precipitation_amount_1hour_Accumulation',\n",
       " 'snow_density',\n",
       " 'surface_air_pressure',\n",
       " 'todays_fires',\n",
       " 'todays_frp',\n",
       " 'tomorrows_fires',\n",
       " 'tomorrows_frp']"
      ]
     },
     "execution_count": 18,
     "metadata": {},
     "output_type": "execute_result"
    }
   ],
   "source": [
    "features = fs.glob('satvu-derived-data/hackathon_data/samples/0/*.npy')\n",
    "features = [f.split('/')[-1].split('.')[0] for f in features]\n",
    "features.remove('sea_surface_temperature')\n",
    "features"
   ]
  },
  {
   "cell_type": "code",
   "execution_count": 19,
   "id": "303a58f8-7c66-4b19-8620-95078b4374c8",
   "metadata": {},
   "outputs": [],
   "source": [
    "# or manually curate\n",
    "\n",
    "features = [\n",
    "    'todays_frp',\n",
    "    'elevation',\n",
    "    'landcover',\n",
    "    'todays_fires',\n",
    "    'tomorrows_fires',\n",
    "]"
   ]
  },
  {
   "cell_type": "markdown",
   "id": "6499c3ea",
   "metadata": {},
   "source": [
    "Get the unique samples from James"
   ]
  },
  {
   "cell_type": "code",
   "execution_count": 20,
   "id": "6574aa8d",
   "metadata": {},
   "outputs": [
    {
     "data": {
      "text/plain": [
       "15435"
      ]
     },
     "execution_count": 20,
     "metadata": {},
     "output_type": "execute_result"
    }
   ],
   "source": [
    "# sample_ids = [9999] + [0] + [int(i) for i in str(fs.open('s3://satvu-derived-data/hackathon/james/tfrecords_updated_filtered/order.txt').read()).split(',')[1:-1]]\n",
    "# sample_ids = sorted(sample_ids)\n",
    "# print(len(sample_ids))\n",
    "# sample_ids[:5]\n",
    "\n",
    "splits_df = pd.read_csv('splits.csv')\n",
    "sample_ids = splits_df['sample_id'].unique()\n",
    "len(sample_ids)"
   ]
  },
  {
   "cell_type": "code",
   "execution_count": 21,
   "id": "03670180-7a88-4795-b051-caf9e5f58929",
   "metadata": {},
   "outputs": [],
   "source": [
    "def get_data_for_sample(id: int) -> pd.DataFrame:\n",
    "    try:\n",
    "        feature_list = []\n",
    "        for feature in features:\n",
    "            url = f's3://satvu-derived-data/hackathon_data/samples/{id}/{feature}.npy'\n",
    "            data = np.load(fs.open(url))\n",
    "            img_dict = get_stats(data)\n",
    "            img_dict['sample_id'] = int(id)\n",
    "            img_dict['feature'] = feature\n",
    "            # img_dict['url'] = url\n",
    "            feature_list.append(pd.DataFrame(img_dict, index = [0]))\n",
    "        return pd.concat(feature_list, axis=0, ignore_index=True)\n",
    "    except Exception as e:\n",
    "        print(f'Error processing sample {id}: {e}')\n",
    "        return None"
   ]
  },
  {
   "cell_type": "code",
   "execution_count": 23,
   "id": "4c59be63-e983-43ba-8ef1-2bca0bd3c0b7",
   "metadata": {},
   "outputs": [
    {
     "data": {
      "text/html": [
       "<div>\n",
       "<style scoped>\n",
       "    .dataframe tbody tr th:only-of-type {\n",
       "        vertical-align: middle;\n",
       "    }\n",
       "\n",
       "    .dataframe tbody tr th {\n",
       "        vertical-align: top;\n",
       "    }\n",
       "\n",
       "    .dataframe thead th {\n",
       "        text-align: right;\n",
       "    }\n",
       "</style>\n",
       "<table border=\"1\" class=\"dataframe\">\n",
       "  <thead>\n",
       "    <tr style=\"text-align: right;\">\n",
       "      <th></th>\n",
       "      <th>min</th>\n",
       "      <th>max</th>\n",
       "      <th>sum</th>\n",
       "      <th>mean</th>\n",
       "      <th>standard_deviation</th>\n",
       "      <th>0_1th_percentile</th>\n",
       "      <th>99_9th_percentile</th>\n",
       "      <th>nan_count</th>\n",
       "      <th>sample_id</th>\n",
       "      <th>feature</th>\n",
       "    </tr>\n",
       "  </thead>\n",
       "  <tbody>\n",
       "    <tr>\n",
       "      <th>0</th>\n",
       "      <td>0.0</td>\n",
       "      <td>140.530000</td>\n",
       "      <td>698.45000</td>\n",
       "      <td>0.170520</td>\n",
       "      <td>3.435532</td>\n",
       "      <td>0.0</td>\n",
       "      <td>62.58000</td>\n",
       "      <td>0</td>\n",
       "      <td>0</td>\n",
       "      <td>todays_frp</td>\n",
       "    </tr>\n",
       "    <tr>\n",
       "      <th>1</th>\n",
       "      <td>0.0</td>\n",
       "      <td>77.406967</td>\n",
       "      <td>137668.78125</td>\n",
       "      <td>33.610542</td>\n",
       "      <td>18.203369</td>\n",
       "      <td>0.0</td>\n",
       "      <td>74.52055</td>\n",
       "      <td>0</td>\n",
       "      <td>0</td>\n",
       "      <td>elevation</td>\n",
       "    </tr>\n",
       "    <tr>\n",
       "      <th>2</th>\n",
       "      <td>10.0</td>\n",
       "      <td>90.000000</td>\n",
       "      <td>83080.00000</td>\n",
       "      <td>20.283203</td>\n",
       "      <td>18.497463</td>\n",
       "      <td>10.0</td>\n",
       "      <td>80.00000</td>\n",
       "      <td>0</td>\n",
       "      <td>0</td>\n",
       "      <td>landcover</td>\n",
       "    </tr>\n",
       "    <tr>\n",
       "      <th>3</th>\n",
       "      <td>0.0</td>\n",
       "      <td>1.000000</td>\n",
       "      <td>25.00000</td>\n",
       "      <td>0.006104</td>\n",
       "      <td>0.077886</td>\n",
       "      <td>0.0</td>\n",
       "      <td>1.00000</td>\n",
       "      <td>0</td>\n",
       "      <td>0</td>\n",
       "      <td>todays_fires</td>\n",
       "    </tr>\n",
       "    <tr>\n",
       "      <th>4</th>\n",
       "      <td>0.0</td>\n",
       "      <td>0.000000</td>\n",
       "      <td>0.00000</td>\n",
       "      <td>0.000000</td>\n",
       "      <td>0.000000</td>\n",
       "      <td>0.0</td>\n",
       "      <td>0.00000</td>\n",
       "      <td>0</td>\n",
       "      <td>0</td>\n",
       "      <td>tomorrows_fires</td>\n",
       "    </tr>\n",
       "  </tbody>\n",
       "</table>\n",
       "</div>"
      ],
      "text/plain": [
       "    min         max           sum       mean  standard_deviation  \\\n",
       "0   0.0  140.530000     698.45000   0.170520            3.435532   \n",
       "1   0.0   77.406967  137668.78125  33.610542           18.203369   \n",
       "2  10.0   90.000000   83080.00000  20.283203           18.497463   \n",
       "3   0.0    1.000000      25.00000   0.006104            0.077886   \n",
       "4   0.0    0.000000       0.00000   0.000000            0.000000   \n",
       "\n",
       "   0_1th_percentile  99_9th_percentile  nan_count  sample_id          feature  \n",
       "0               0.0           62.58000          0          0       todays_frp  \n",
       "1               0.0           74.52055          0          0        elevation  \n",
       "2              10.0           80.00000          0          0        landcover  \n",
       "3               0.0            1.00000          0          0     todays_fires  \n",
       "4               0.0            0.00000          0          0  tomorrows_fires  "
      ]
     },
     "execution_count": 23,
     "metadata": {},
     "output_type": "execute_result"
    }
   ],
   "source": [
    "# get_data_for_sample('12586') # bad file\n",
    "get_data_for_sample(0) # good file"
   ]
  },
  {
   "cell_type": "code",
   "execution_count": 24,
   "id": "3ced5d55-7a8d-4df8-b89e-3ce89339c3ea",
   "metadata": {},
   "outputs": [
    {
     "name": "stderr",
     "output_type": "stream",
     "text": [
      "100%|██████████| 15435/15435 [26:39<00:00,  9.65it/s] \n"
     ]
    },
    {
     "name": "stdout",
     "output_type": "stream",
     "text": [
      "CPU times: user 5min 31s, sys: 29.7 s, total: 6min\n",
      "Wall time: 26min 40s\n"
     ]
    },
    {
     "data": {
      "text/plain": [
       "15435"
      ]
     },
     "execution_count": 24,
     "metadata": {},
     "output_type": "execute_result"
    }
   ],
   "source": [
    "%%time\n",
    "    \n",
    "with ThreadPool(os.cpu_count()) as pool:\n",
    "      results = list(tqdm(pool.imap(get_data_for_sample, sample_ids), total=len(sample_ids)))\n",
    "    \n",
    "len(results)"
   ]
  },
  {
   "cell_type": "code",
   "execution_count": 25,
   "id": "4565a0ba-59c5-445f-9e79-fc97bee32b94",
   "metadata": {},
   "outputs": [
    {
     "data": {
      "text/plain": [
       "(77175, 10)"
      ]
     },
     "execution_count": 25,
     "metadata": {},
     "output_type": "execute_result"
    }
   ],
   "source": [
    "df = pd.concat(results, axis=0)\n",
    "df.to_csv('data_stats.csv', index=False)\n",
    "df.shape"
   ]
  },
  {
   "cell_type": "code",
   "execution_count": 28,
   "id": "9ab8c91a-9d09-45e8-84a0-ecca28ecc5d1",
   "metadata": {},
   "outputs": [],
   "source": [
    "df.groupby('feature').mean().to_csv('data_stats_mean.csv', index=True)"
   ]
  },
  {
   "cell_type": "code",
   "execution_count": 27,
   "id": "6d66d45a",
   "metadata": {},
   "outputs": [
    {
     "data": {
      "text/html": [
       "<div>\n",
       "<style scoped>\n",
       "    .dataframe tbody tr th:only-of-type {\n",
       "        vertical-align: middle;\n",
       "    }\n",
       "\n",
       "    .dataframe tbody tr th {\n",
       "        vertical-align: top;\n",
       "    }\n",
       "\n",
       "    .dataframe thead th {\n",
       "        text-align: right;\n",
       "    }\n",
       "</style>\n",
       "<table border=\"1\" class=\"dataframe\">\n",
       "  <thead>\n",
       "    <tr style=\"text-align: right;\">\n",
       "      <th></th>\n",
       "      <th>min</th>\n",
       "      <th>max</th>\n",
       "      <th>sum</th>\n",
       "      <th>mean</th>\n",
       "      <th>standard_deviation</th>\n",
       "      <th>0_1th_percentile</th>\n",
       "      <th>99_9th_percentile</th>\n",
       "      <th>nan_count</th>\n",
       "      <th>sample_id</th>\n",
       "    </tr>\n",
       "    <tr>\n",
       "      <th>feature</th>\n",
       "      <th></th>\n",
       "      <th></th>\n",
       "      <th></th>\n",
       "      <th></th>\n",
       "      <th></th>\n",
       "      <th></th>\n",
       "      <th></th>\n",
       "      <th></th>\n",
       "      <th></th>\n",
       "    </tr>\n",
       "  </thead>\n",
       "  <tbody>\n",
       "    <tr>\n",
       "      <th>elevation</th>\n",
       "      <td>469.746265</td>\n",
       "      <td>1175.622036</td>\n",
       "      <td>3.123095e+06</td>\n",
       "      <td>762.474345</td>\n",
       "      <td>138.177659</td>\n",
       "      <td>478.390159</td>\n",
       "      <td>1139.643686</td>\n",
       "      <td>0.0</td>\n",
       "      <td>8844.249368</td>\n",
       "    </tr>\n",
       "    <tr>\n",
       "      <th>landcover</th>\n",
       "      <td>10.030450</td>\n",
       "      <td>94.451895</td>\n",
       "      <td>1.116076e+05</td>\n",
       "      <td>27.247959</td>\n",
       "      <td>21.845070</td>\n",
       "      <td>10.062627</td>\n",
       "      <td>92.402169</td>\n",
       "      <td>0.0</td>\n",
       "      <td>8844.249368</td>\n",
       "    </tr>\n",
       "    <tr>\n",
       "      <th>todays_fires</th>\n",
       "      <td>0.000000</td>\n",
       "      <td>0.999741</td>\n",
       "      <td>1.303353e+02</td>\n",
       "      <td>0.031818</td>\n",
       "      <td>0.157910</td>\n",
       "      <td>0.000000</td>\n",
       "      <td>0.999605</td>\n",
       "      <td>0.0</td>\n",
       "      <td>8844.249368</td>\n",
       "    </tr>\n",
       "    <tr>\n",
       "      <th>todays_frp</th>\n",
       "      <td>0.000000</td>\n",
       "      <td>166.831030</td>\n",
       "      <td>2.644683e+03</td>\n",
       "      <td>0.645608</td>\n",
       "      <td>6.045492</td>\n",
       "      <td>0.000000</td>\n",
       "      <td>88.271995</td>\n",
       "      <td>0.0</td>\n",
       "      <td>8844.249368</td>\n",
       "    </tr>\n",
       "    <tr>\n",
       "      <th>tomorrows_fires</th>\n",
       "      <td>0.000000</td>\n",
       "      <td>0.870230</td>\n",
       "      <td>9.705546e+01</td>\n",
       "      <td>0.023693</td>\n",
       "      <td>0.121255</td>\n",
       "      <td>0.000000</td>\n",
       "      <td>0.812485</td>\n",
       "      <td>0.0</td>\n",
       "      <td>8844.249368</td>\n",
       "    </tr>\n",
       "  </tbody>\n",
       "</table>\n",
       "</div>"
      ],
      "text/plain": [
       "                        min          max           sum        mean  \\\n",
       "feature                                                              \n",
       "elevation        469.746265  1175.622036  3.123095e+06  762.474345   \n",
       "landcover         10.030450    94.451895  1.116076e+05   27.247959   \n",
       "todays_fires       0.000000     0.999741  1.303353e+02    0.031818   \n",
       "todays_frp         0.000000   166.831030  2.644683e+03    0.645608   \n",
       "tomorrows_fires    0.000000     0.870230  9.705546e+01    0.023693   \n",
       "\n",
       "                 standard_deviation  0_1th_percentile  99_9th_percentile  \\\n",
       "feature                                                                    \n",
       "elevation                138.177659        478.390159        1139.643686   \n",
       "landcover                 21.845070         10.062627          92.402169   \n",
       "todays_fires               0.157910          0.000000           0.999605   \n",
       "todays_frp                 6.045492          0.000000          88.271995   \n",
       "tomorrows_fires            0.121255          0.000000           0.812485   \n",
       "\n",
       "                 nan_count    sample_id  \n",
       "feature                                  \n",
       "elevation              0.0  8844.249368  \n",
       "landcover              0.0  8844.249368  \n",
       "todays_fires           0.0  8844.249368  \n",
       "todays_frp             0.0  8844.249368  \n",
       "tomorrows_fires        0.0  8844.249368  "
      ]
     },
     "execution_count": 27,
     "metadata": {},
     "output_type": "execute_result"
    }
   ],
   "source": [
    "df.groupby('feature').mean()"
   ]
  },
  {
   "cell_type": "code",
   "execution_count": 69,
   "id": "6c0fa3e3",
   "metadata": {},
   "outputs": [
    {
     "data": {
      "text/html": [
       "<div>\n",
       "<style scoped>\n",
       "    .dataframe tbody tr th:only-of-type {\n",
       "        vertical-align: middle;\n",
       "    }\n",
       "\n",
       "    .dataframe tbody tr th {\n",
       "        vertical-align: top;\n",
       "    }\n",
       "\n",
       "    .dataframe thead th {\n",
       "        text-align: right;\n",
       "    }\n",
       "</style>\n",
       "<table border=\"1\" class=\"dataframe\">\n",
       "  <thead>\n",
       "    <tr style=\"text-align: right;\">\n",
       "      <th></th>\n",
       "      <th>min</th>\n",
       "      <th>max</th>\n",
       "      <th>sum</th>\n",
       "      <th>mean</th>\n",
       "      <th>standard_deviation</th>\n",
       "      <th>0_1th_percentile</th>\n",
       "      <th>1th_percentile</th>\n",
       "      <th>5th_percentile</th>\n",
       "      <th>25th_percentile</th>\n",
       "      <th>75th_percentile</th>\n",
       "      <th>95th_percentile</th>\n",
       "      <th>99th_percentile</th>\n",
       "      <th>99_9th_percentile</th>\n",
       "      <th>nan_count</th>\n",
       "      <th>sample_id</th>\n",
       "      <th>feature</th>\n",
       "      <th>url</th>\n",
       "    </tr>\n",
       "  </thead>\n",
       "  <tbody>\n",
       "    <tr>\n",
       "      <th>0</th>\n",
       "      <td>250.517772</td>\n",
       "      <td>251.801893</td>\n",
       "      <td>1.028784e+06</td>\n",
       "      <td>251.168018</td>\n",
       "      <td>0.239222</td>\n",
       "      <td>250.541971</td>\n",
       "      <td>250.617991</td>\n",
       "      <td>250.791421</td>\n",
       "      <td>250.972532</td>\n",
       "      <td>251.344177</td>\n",
       "      <td>251.572947</td>\n",
       "      <td>251.702094</td>\n",
       "      <td>251.786031</td>\n",
       "      <td>0</td>\n",
       "      <td>0</td>\n",
       "      <td>air_temperature_at_2_metres_1hour_Minimum</td>\n",
       "      <td>s3://satvu-derived-data/hackathon_data/samples...</td>\n",
       "    </tr>\n",
       "    <tr>\n",
       "      <th>1</th>\n",
       "      <td>251.406216</td>\n",
       "      <td>252.367723</td>\n",
       "      <td>1.031216e+06</td>\n",
       "      <td>251.761629</td>\n",
       "      <td>0.203830</td>\n",
       "      <td>251.416025</td>\n",
       "      <td>251.443462</td>\n",
       "      <td>251.482532</td>\n",
       "      <td>251.578249</td>\n",
       "      <td>251.917226</td>\n",
       "      <td>252.115081</td>\n",
       "      <td>252.238278</td>\n",
       "      <td>252.334515</td>\n",
       "      <td>0</td>\n",
       "      <td>0</td>\n",
       "      <td>air_temperature_at_2_metres_1hour_Maximum</td>\n",
       "      <td>s3://satvu-derived-data/hackathon_data/samples...</td>\n",
       "    </tr>\n",
       "    <tr>\n",
       "      <th>2</th>\n",
       "      <td>0.000000</td>\n",
       "      <td>77.406967</td>\n",
       "      <td>1.376688e+05</td>\n",
       "      <td>33.610542</td>\n",
       "      <td>18.203369</td>\n",
       "      <td>0.000000</td>\n",
       "      <td>0.000000</td>\n",
       "      <td>3.015698</td>\n",
       "      <td>18.140119</td>\n",
       "      <td>48.049352</td>\n",
       "      <td>60.869523</td>\n",
       "      <td>68.323860</td>\n",
       "      <td>74.520550</td>\n",
       "      <td>0</td>\n",
       "      <td>0</td>\n",
       "      <td>elevation</td>\n",
       "      <td>s3://satvu-derived-data/hackathon_data/samples...</td>\n",
       "    </tr>\n",
       "    <tr>\n",
       "      <th>3</th>\n",
       "      <td>10.000000</td>\n",
       "      <td>90.000000</td>\n",
       "      <td>8.308000e+04</td>\n",
       "      <td>20.283203</td>\n",
       "      <td>18.497463</td>\n",
       "      <td>10.000000</td>\n",
       "      <td>10.000000</td>\n",
       "      <td>10.000000</td>\n",
       "      <td>10.000000</td>\n",
       "      <td>30.000000</td>\n",
       "      <td>80.000000</td>\n",
       "      <td>80.000000</td>\n",
       "      <td>80.000000</td>\n",
       "      <td>0</td>\n",
       "      <td>0</td>\n",
       "      <td>landcover</td>\n",
       "      <td>s3://satvu-derived-data/hackathon_data/samples...</td>\n",
       "    </tr>\n",
       "    <tr>\n",
       "      <th>4</th>\n",
       "      <td>-1.000000</td>\n",
       "      <td>0.998171</td>\n",
       "      <td>2.300642e+03</td>\n",
       "      <td>0.561680</td>\n",
       "      <td>0.253865</td>\n",
       "      <td>-1.000000</td>\n",
       "      <td>-0.828980</td>\n",
       "      <td>0.274783</td>\n",
       "      <td>0.534010</td>\n",
       "      <td>0.684211</td>\n",
       "      <td>0.778860</td>\n",
       "      <td>0.837608</td>\n",
       "      <td>0.997738</td>\n",
       "      <td>0</td>\n",
       "      <td>0</td>\n",
       "      <td>ndvi</td>\n",
       "      <td>s3://satvu-derived-data/hackathon_data/samples...</td>\n",
       "    </tr>\n",
       "  </tbody>\n",
       "</table>\n",
       "</div>"
      ],
      "text/plain": [
       "          min         max           sum        mean  standard_deviation  \\\n",
       "0  250.517772  251.801893  1.028784e+06  251.168018            0.239222   \n",
       "1  251.406216  252.367723  1.031216e+06  251.761629            0.203830   \n",
       "2    0.000000   77.406967  1.376688e+05   33.610542           18.203369   \n",
       "3   10.000000   90.000000  8.308000e+04   20.283203           18.497463   \n",
       "4   -1.000000    0.998171  2.300642e+03    0.561680            0.253865   \n",
       "\n",
       "   0_1th_percentile  1th_percentile  5th_percentile  25th_percentile  \\\n",
       "0        250.541971      250.617991      250.791421       250.972532   \n",
       "1        251.416025      251.443462      251.482532       251.578249   \n",
       "2          0.000000        0.000000        3.015698        18.140119   \n",
       "3         10.000000       10.000000       10.000000        10.000000   \n",
       "4         -1.000000       -0.828980        0.274783         0.534010   \n",
       "\n",
       "   75th_percentile  95th_percentile  99th_percentile  99_9th_percentile  \\\n",
       "0       251.344177       251.572947       251.702094         251.786031   \n",
       "1       251.917226       252.115081       252.238278         252.334515   \n",
       "2        48.049352        60.869523        68.323860          74.520550   \n",
       "3        30.000000        80.000000        80.000000          80.000000   \n",
       "4         0.684211         0.778860         0.837608           0.997738   \n",
       "\n",
       "   nan_count  sample_id                                    feature  \\\n",
       "0          0          0  air_temperature_at_2_metres_1hour_Minimum   \n",
       "1          0          0  air_temperature_at_2_metres_1hour_Maximum   \n",
       "2          0          0                                  elevation   \n",
       "3          0          0                                  landcover   \n",
       "4          0          0                                       ndvi   \n",
       "\n",
       "                                                 url  \n",
       "0  s3://satvu-derived-data/hackathon_data/samples...  \n",
       "1  s3://satvu-derived-data/hackathon_data/samples...  \n",
       "2  s3://satvu-derived-data/hackathon_data/samples...  \n",
       "3  s3://satvu-derived-data/hackathon_data/samples...  \n",
       "4  s3://satvu-derived-data/hackathon_data/samples...  "
      ]
     },
     "execution_count": 69,
     "metadata": {},
     "output_type": "execute_result"
    }
   ],
   "source": [
    "df.head()"
   ]
  },
  {
   "cell_type": "code",
   "execution_count": 29,
   "id": "0c2f6896",
   "metadata": {},
   "outputs": [
    {
     "data": {
      "text/plain": [
       "<AxesSubplot:>"
      ]
     },
     "execution_count": 29,
     "metadata": {},
     "output_type": "execute_result"
    },
    {
     "data": {
      "image/png": "[encoded data removed]",
      "text/plain": [
       "<Figure size 432x288 with 1 Axes>"
      ]
     },
     "metadata": {
      "needs_background": "light"
     },
     "output_type": "display_data"
    }
   ],
   "source": [
    "df[df['feature']=='todays_fires']['sum'].hist(bins=30)"
   ]
  },
  {
   "cell_type": "code",
   "execution_count": 30,
   "id": "43baacfd",
   "metadata": {},
   "outputs": [
    {
     "data": {
      "text/plain": [
       "feature\n",
       "elevation          0\n",
       "landcover          0\n",
       "todays_fires       0\n",
       "todays_frp         0\n",
       "tomorrows_fires    0\n",
       "Name: nan_count, dtype: int64"
      ]
     },
     "execution_count": 30,
     "metadata": {},
     "output_type": "execute_result"
    }
   ],
   "source": [
    "df.groupby('feature').sum()['nan_count']"
   ]
  },
  {
   "cell_type": "code",
   "execution_count": null,
   "id": "d4e0748d",
   "metadata": {},
   "outputs": [],
   "source": []
  }
 ],
 "metadata": {
  "interpreter": {
   "hash": "aafdfdf2a477a891d5a071148c895ea18914d2262790416c664cd6c94df184b5"
  },
  "kernelspec": {
   "display_name": ".conda-tf-cpu:Python",
   "language": "python",
   "name": "python3"
  },
  "language_info": {
   "codemirror_mode": {
    "name": "ipython",
    "version": 3
   },
   "file_extension": ".py",
   "mimetype": "text/x-python",
   "name": "python",
   "nbconvert_exporter": "python",
   "pygments_lexer": "ipython3",
   "version": "3.9.7"
  }
 },
 "nbformat": 4,
 "nbformat_minor": 5
}
