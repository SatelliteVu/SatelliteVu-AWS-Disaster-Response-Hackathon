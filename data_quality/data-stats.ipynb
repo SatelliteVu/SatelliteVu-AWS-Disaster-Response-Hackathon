{
 "cells": [
  {
   "cell_type": "markdown",
   "id": "3dcd5b7b-9708-41bd-9a64-53f6a7e5aa9b",
   "metadata": {},
   "source": [
    "[![Open In SageMaker Studio Lab](https://studiolab.sagemaker.aws/studiolab.svg)](https://studiolab.sagemaker.aws/import/github/SatelliteVu/SatelliteVu-AWS-Disaster-Response-Hackathon/blob/main/data_quality/data-stats.ipynb)\n",
    "\n",
    "This notebook demonstrates extracting required statistics for normalising data"
   ]
  },
  {
   "cell_type": "code",
   "execution_count": 2,
   "id": "8d820246-f14d-4e23-821c-7a551fc29d4b",
   "metadata": {},
   "outputs": [
    {
     "name": "stdout",
     "output_type": "stream",
     "text": [
      "4\n"
     ]
    }
   ],
   "source": [
    "from tqdm import tqdm\n",
    "import pandas as pd\n",
    "import s3fs\n",
    "import numpy as np\n",
    "from concurrent.futures import ThreadPoolExecutor\n",
    "from multiprocessing.pool import ThreadPool \n",
    "import os\n",
    "\n",
    "print(os.cpu_count())"
   ]
  },
  {
   "cell_type": "markdown",
   "id": "f5c97414-3d69-4ddd-9789-245141349bf6",
   "metadata": {},
   "source": [
    "# Define Statistics Function"
   ]
  },
  {
   "cell_type": "code",
   "execution_count": 3,
   "id": "fa8458d8-2c07-4a66-88d1-9aa01dc262ec",
   "metadata": {},
   "outputs": [],
   "source": [
    "def get_stats(img_arr: np.array) -> dict:\n",
    "    \"\"\"Return dict of image stats\"\"\"\n",
    "    \n",
    "    response = {}\n",
    "    response.update({\"min\": str(np.min(img_arr))})\n",
    "    response.update({\"max\": str(np.max(img_arr))})\n",
    "    response.update({\"sum\": str(np.sum(img_arr))})\n",
    "    response.update({\"mean\": str(np.mean(img_arr))})\n",
    "    response.update({\"standard_deviation\": str(np.std(img_arr))})\n",
    "    response.update({\"1th_percentile\": str(np.percentile(img_arr, 1))})\n",
    "    response.update({\"5th_percentile\": str(np.percentile(img_arr, 5))})\n",
    "    response.update({\"25th_percentile\": str(np.percentile(img_arr, 25))})\n",
    "    response.update({\"75th_percentile\": str(np.percentile(img_arr, 75))})\n",
    "    response.update({\"95th_percentile\": str(np.percentile(img_arr, 95))})\n",
    "    response.update({\"99th_percentile\": str(np.percentile(img_arr, 99))})\n",
    "    response.update({\"nan_count\": str(np.isnan(img_arr).sum())})\n",
    "    return response"
   ]
  },
  {
   "cell_type": "markdown",
   "id": "690a47b5-5009-45e9-9eaf-b3b58de50562",
   "metadata": {},
   "source": [
    "# Read Samples from S3 and Run Through Statistics Function"
   ]
  },
  {
   "cell_type": "code",
   "execution_count": 4,
   "id": "68e611d8-f4eb-4e9d-9b6b-2394617288c3",
   "metadata": {},
   "outputs": [],
   "source": [
    "fs = s3fs.S3FileSystem()"
   ]
  },
  {
   "cell_type": "code",
   "execution_count": 17,
   "id": "ab97d0a0-de2d-42c1-9e1d-d08cce59feb4",
   "metadata": {},
   "outputs": [
    {
     "name": "stdout",
     "output_type": "stream",
     "text": [
      "Overwriting /home/studio-lab-user/.aws/credentials\n"
     ]
    }
   ],
   "source": [
    "%%writefile ~/.aws/credentials\n",
    "\n",
    "[default]\n",
    "aws_access_key_id = ACCESS_KEY\n",
    "aws_secret_access_key = SECRET_ACCESS_KEY"
   ]
  },
  {
   "cell_type": "code",
   "execution_count": 18,
   "id": "b99b8d05-2e8e-462b-a5ce-21bfec98509a",
   "metadata": {},
   "outputs": [
    {
     "name": "stdout",
     "output_type": "stream",
     "text": [
      "Overwriting /home/studio-lab-user/.aws/config\n"
     ]
    }
   ],
   "source": [
    "%%writefile ~/.aws/config\n",
    "\n",
    "[default]\n",
    "region=eu-west-2"
   ]
  },
  {
   "cell_type": "code",
   "execution_count": 6,
   "id": "303a58f8-7c66-4b19-8620-95078b4374c8",
   "metadata": {},
   "outputs": [],
   "source": [
    "features = ['air_pressure_at_mean_sea_level',\n",
    " 'air_temperature_at_2_metres',\n",
    " 'air_temperature_at_2_metres_1hour_Maximum',\n",
    " 'air_temperature_at_2_metres_1hour_Minimum',\n",
    " 'eastward_wind_at_10_metres',\n",
    " 'elevation',\n",
    " 'integral_wrt_time_of_surface_direct_downwelling_shortwave_flux_in_air_1hour_Accumulation',\n",
    " 'landcover',\n",
    " 'ndvi',\n",
    " 'northward_wind_at_10_metres',\n",
    " 'precipitation_amount_1hour_Accumulation',\n",
    " 'surface_air_pressure',\n",
    " 'todays_fires',\n",
    " 'todays_frp',\n",
    " 'tomorrows_fires',\n",
    " 'tomorrows_frp']"
   ]
  },
  {
   "cell_type": "code",
   "execution_count": 7,
   "id": "7506385a-9290-4558-92b8-afe3e83129bb",
   "metadata": {},
   "outputs": [
    {
     "data": {
      "text/plain": [
       "26270"
      ]
     },
     "execution_count": 7,
     "metadata": {},
     "output_type": "execute_result"
    }
   ],
   "source": [
    "samples = fs.glob('satvu-derived-data/hackathon_data/samples/')[:-2]\n",
    "sample_ids = [s.split('/')[-1] for s in samples]\n",
    "len(sample_ids)"
   ]
  },
  {
   "cell_type": "code",
   "execution_count": 9,
   "id": "5bfc16d6-c751-4a15-bd03-67df1dd1d787",
   "metadata": {},
   "outputs": [
    {
     "data": {
      "text/plain": [
       "['0', '1', '10', '100', '10000']"
      ]
     },
     "execution_count": 9,
     "metadata": {},
     "output_type": "execute_result"
    }
   ],
   "source": [
    "sample_ids[:5]"
   ]
  },
  {
   "cell_type": "code",
   "execution_count": 8,
   "id": "03670180-7a88-4795-b051-caf9e5f58929",
   "metadata": {},
   "outputs": [],
   "source": [
    "def get_data_for_sample(id: int) -> pd.DataFrame:\n",
    "    try:\n",
    "        feature_list = []\n",
    "        for feature in features:\n",
    "            url = f's3://satvu-derived-data/hackathon_data/samples/{id}/{feature}.npy'\n",
    "            data = np.load(fs.open(url))\n",
    "            img_dict = get_stats(data)\n",
    "            img_dict['sample_id'] = id\n",
    "            img_dict['feature'] = feature\n",
    "            img_dict['url'] = url\n",
    "            feature_list.append(pd.DataFrame(img_dict, index = [0]))\n",
    "        return pd.concat(feature_list, axis=0, ignore_index=True)\n",
    "    except Exception as e:\n",
    "        print(f'Error processing sample {id}: {e}')\n",
    "        return None"
   ]
  },
  {
   "cell_type": "code",
   "execution_count": null,
   "id": "3ced5d55-7a8d-4df8-b89e-3ce89339c3ea",
   "metadata": {},
   "outputs": [],
   "source": [
    "%%time\n",
    "    \n",
    "with ThreadPool(os.cpu_count()) as pool:\n",
    "      results = list(tqdm(pool.imap(get_data_for_sample, sample_ids), total=len(sample_ids)))\n",
    "    \n",
    "len(results)"
   ]
  },
  {
   "cell_type": "markdown",
   "id": "2b78e252-4f17-4b9b-98ef-31f934b2d0cf",
   "metadata": {},
   "source": [
    "Save statistics to csv file"
   ]
  },
  {
   "cell_type": "code",
   "execution_count": null,
   "id": "79fe0a49-4c71-4852-b99c-006b07af40ac",
   "metadata": {},
   "outputs": [],
   "source": [
    "df = pd.concat(results, axis=0)\n",
    "df.to_csv('data_stats.csv', index=False)\n",
    "df.shape"
   ]
  },
  {
   "cell_type": "code",
   "execution_count": 31,
   "id": "2d1b5831-a23d-41c1-8bfe-a351bd5acd31",
   "metadata": {},
   "outputs": [],
   "source": [
    "stats = pd.read_csv('data_stats.csv')"
   ]
  },
  {
   "cell_type": "markdown",
   "id": "f4979385-476b-43c9-b5ea-62a5b7492387",
   "metadata": {},
   "source": [
    "# Combine Stats for Whole Dataset"
   ]
  },
  {
   "cell_type": "code",
   "execution_count": 11,
   "id": "0b3a2c9c-dd71-4e8b-8276-f126111063b0",
   "metadata": {},
   "outputs": [],
   "source": [
    "from scipy.stats import skew, kurtosis\n",
    "def handler(img_arr):\n",
    "    \"\"\"Accepts Lambda event and context object.\"\"\"\n",
    "    \n",
    "    response = {}\n",
    "    response.update({\"min\": str(np.min(img_arr))})\n",
    "    response.update({\"max\": str(np.max(img_arr))})\n",
    "    response.update({\"mean\": str(np.mean(img_arr))})\n",
    "    response.update({\"standard_deviation\": str(np.std(img_arr))})\n",
    "    response.update({\"nan_count\": str(np.isnan(img_arr).sum())})\n",
    "    return response"
   ]
  },
  {
   "cell_type": "code",
   "execution_count": 25,
   "id": "f81463e4-8579-4968-a300-ca89cab47ca9",
   "metadata": {},
   "outputs": [
    {
     "name": "stderr",
     "output_type": "stream",
     "text": [
      "/home/studio-lab-user/.conda/envs/default/lib/python3.9/site-packages/numpy/core/fromnumeric.py:3472: FutureWarning: Dropping of nuisance columns in DataFrame reductions (with 'numeric_only=None') is deprecated; in a future version this will raise TypeError.  Select only valid columns before calling the reduction.\n",
      "  return mean(axis=axis, dtype=dtype, out=out, **kwargs)\n"
     ]
    }
   ],
   "source": [
    "for_table = {}\n",
    "for i in features:\n",
    "    mins = np.min(stats[stats['feature']=='%s' %i])[0]\n",
    "    maxs = np.max(stats[stats['feature']=='%s' %i])[1]\n",
    "    sums = np.sum(stats[stats['feature']=='%s' %i])[2]\n",
    "    mean = np.mean(stats[stats['feature']=='%s' %i])[3]\n",
    "    nan = np.sum(stats[stats['feature']=='%s' %i])[4]\n",
    "    for_table[i] = [mins, maxs, sums,mean, nan]"
   ]
  },
  {
   "cell_type": "code",
   "execution_count": 26,
   "id": "21921156-19d9-4e23-b1c4-5124e8528b4e",
   "metadata": {},
   "outputs": [],
   "source": [
    "for_table_pd = pd.DataFrame(for_table).T"
   ]
  },
  {
   "cell_type": "code",
   "execution_count": 27,
   "id": "b0cc3aba-2272-43e3-b042-38a3accb4cfb",
   "metadata": {},
   "outputs": [],
   "source": [
    "for_table_pd.columns = ['minimum', 'maximum', 'sum', 'mean', 'nan count']"
   ]
  },
  {
   "cell_type": "code",
   "execution_count": 29,
   "id": "7df792f5-c930-4169-a751-138c64cab150",
   "metadata": {},
   "outputs": [
    {
     "data": {
      "text/html": [
       "<div>\n",
       "<style scoped>\n",
       "    .dataframe tbody tr th:only-of-type {\n",
       "        vertical-align: middle;\n",
       "    }\n",
       "\n",
       "    .dataframe tbody tr th {\n",
       "        vertical-align: top;\n",
       "    }\n",
       "\n",
       "    .dataframe thead th {\n",
       "        text-align: right;\n",
       "    }\n",
       "</style>\n",
       "<table border=\"1\" class=\"dataframe\">\n",
       "  <thead>\n",
       "    <tr style=\"text-align: right;\">\n",
       "      <th></th>\n",
       "      <th>minimum</th>\n",
       "      <th>maximum</th>\n",
       "      <th>sum</th>\n",
       "      <th>mean</th>\n",
       "      <th>nan count</th>\n",
       "    </tr>\n",
       "  </thead>\n",
       "  <tbody>\n",
       "    <tr>\n",
       "      <th>air_pressure_at_mean_sea_level</th>\n",
       "      <td>98291.072689</td>\n",
       "      <td>1.055518e+05</td>\n",
       "      <td>1.086883e+13</td>\n",
       "      <td>101113.533971</td>\n",
       "      <td>3.995783e+05</td>\n",
       "    </tr>\n",
       "    <tr>\n",
       "      <th>air_temperature_at_2_metres</th>\n",
       "      <td>233.454304</td>\n",
       "      <td>3.084176e+02</td>\n",
       "      <td>3.075701e+10</td>\n",
       "      <td>285.993158</td>\n",
       "      <td>8.188393e+03</td>\n",
       "    </tr>\n",
       "    <tr>\n",
       "      <th>air_temperature_at_2_metres_1hour_Maximum</th>\n",
       "      <td>232.281783</td>\n",
       "      <td>3.084375e+02</td>\n",
       "      <td>3.084825e+10</td>\n",
       "      <td>286.907125</td>\n",
       "      <td>7.987091e+03</td>\n",
       "    </tr>\n",
       "    <tr>\n",
       "      <th>air_temperature_at_2_metres_1hour_Minimum</th>\n",
       "      <td>231.460242</td>\n",
       "      <td>3.076250e+02</td>\n",
       "      <td>3.081405e+10</td>\n",
       "      <td>286.447142</td>\n",
       "      <td>8.045231e+03</td>\n",
       "    </tr>\n",
       "    <tr>\n",
       "      <th>eastward_wind_at_10_metres</th>\n",
       "      <td>-11.538805</td>\n",
       "      <td>1.125294e+01</td>\n",
       "      <td>8.441819e+06</td>\n",
       "      <td>0.078487</td>\n",
       "      <td>4.382893e+03</td>\n",
       "    </tr>\n",
       "    <tr>\n",
       "      <th>elevation</th>\n",
       "      <td>-41.752130</td>\n",
       "      <td>4.355983e+03</td>\n",
       "      <td>9.471180e+10</td>\n",
       "      <td>880.306023</td>\n",
       "      <td>4.356310e+06</td>\n",
       "    </tr>\n",
       "    <tr>\n",
       "      <th>integral_wrt_time_of_surface_direct_downwelling_shortwave_flux_in_air_1hour_Accumulation</th>\n",
       "      <td>-13.960936</td>\n",
       "      <td>1.747005e+06</td>\n",
       "      <td>7.280323e+12</td>\n",
       "      <td>67677.819355</td>\n",
       "      <td>5.665472e+07</td>\n",
       "    </tr>\n",
       "    <tr>\n",
       "      <th>landcover</th>\n",
       "      <td>10.000000</td>\n",
       "      <td>1.000000e+02</td>\n",
       "      <td>2.758116e+09</td>\n",
       "      <td>25.635517</td>\n",
       "      <td>5.395683e+05</td>\n",
       "    </tr>\n",
       "    <tr>\n",
       "      <th>ndvi</th>\n",
       "      <td>-1.000000</td>\n",
       "      <td>1.000000e+00</td>\n",
       "      <td>4.794658e+07</td>\n",
       "      <td>0.450878</td>\n",
       "      <td>5.142470e+03</td>\n",
       "    </tr>\n",
       "    <tr>\n",
       "      <th>northward_wind_at_10_metres</th>\n",
       "      <td>-10.710242</td>\n",
       "      <td>9.768605e+00</td>\n",
       "      <td>-7.221049e+07</td>\n",
       "      <td>-0.671243</td>\n",
       "      <td>4.463459e+03</td>\n",
       "    </tr>\n",
       "    <tr>\n",
       "      <th>precipitation_amount_1hour_Accumulation</th>\n",
       "      <td>-0.000194</td>\n",
       "      <td>1.210319e-02</td>\n",
       "      <td>5.920092e+03</td>\n",
       "      <td>0.000055</td>\n",
       "      <td>3.426148e-01</td>\n",
       "    </tr>\n",
       "    <tr>\n",
       "      <th>surface_air_pressure</th>\n",
       "      <td>50044.060795</td>\n",
       "      <td>1.035296e+05</td>\n",
       "      <td>1.026267e+13</td>\n",
       "      <td>95401.672515</td>\n",
       "      <td>7.031786e+06</td>\n",
       "    </tr>\n",
       "    <tr>\n",
       "      <th>todays_fires</th>\n",
       "      <td>0.000000</td>\n",
       "      <td>1.000000e+00</td>\n",
       "      <td>3.336848e+06</td>\n",
       "      <td>0.031013</td>\n",
       "      <td>4.089547e+03</td>\n",
       "    </tr>\n",
       "    <tr>\n",
       "      <th>todays_frp</th>\n",
       "      <td>0.000000</td>\n",
       "      <td>3.994280e+03</td>\n",
       "      <td>6.523366e+07</td>\n",
       "      <td>0.606277</td>\n",
       "      <td>1.507838e+05</td>\n",
       "    </tr>\n",
       "    <tr>\n",
       "      <th>tomorrows_fires</th>\n",
       "      <td>0.000000</td>\n",
       "      <td>1.000000e+00</td>\n",
       "      <td>2.525092e+06</td>\n",
       "      <td>0.023468</td>\n",
       "      <td>3.196706e+03</td>\n",
       "    </tr>\n",
       "    <tr>\n",
       "      <th>tomorrows_frp</th>\n",
       "      <td>0.000000</td>\n",
       "      <td>3.254170e+03</td>\n",
       "      <td>4.337705e+07</td>\n",
       "      <td>0.403137</td>\n",
       "      <td>9.883623e+04</td>\n",
       "    </tr>\n",
       "  </tbody>\n",
       "</table>\n",
       "</div>"
      ],
      "text/plain": [
       "                                                         minimum  \\\n",
       "air_pressure_at_mean_sea_level                      98291.072689   \n",
       "air_temperature_at_2_metres                           233.454304   \n",
       "air_temperature_at_2_metres_1hour_Maximum             232.281783   \n",
       "air_temperature_at_2_metres_1hour_Minimum             231.460242   \n",
       "eastward_wind_at_10_metres                            -11.538805   \n",
       "elevation                                             -41.752130   \n",
       "integral_wrt_time_of_surface_direct_downwelling...    -13.960936   \n",
       "landcover                                              10.000000   \n",
       "ndvi                                                   -1.000000   \n",
       "northward_wind_at_10_metres                           -10.710242   \n",
       "precipitation_amount_1hour_Accumulation                -0.000194   \n",
       "surface_air_pressure                                50044.060795   \n",
       "todays_fires                                            0.000000   \n",
       "todays_frp                                              0.000000   \n",
       "tomorrows_fires                                         0.000000   \n",
       "tomorrows_frp                                           0.000000   \n",
       "\n",
       "                                                         maximum  \\\n",
       "air_pressure_at_mean_sea_level                      1.055518e+05   \n",
       "air_temperature_at_2_metres                         3.084176e+02   \n",
       "air_temperature_at_2_metres_1hour_Maximum           3.084375e+02   \n",
       "air_temperature_at_2_metres_1hour_Minimum           3.076250e+02   \n",
       "eastward_wind_at_10_metres                          1.125294e+01   \n",
       "elevation                                           4.355983e+03   \n",
       "integral_wrt_time_of_surface_direct_downwelling...  1.747005e+06   \n",
       "landcover                                           1.000000e+02   \n",
       "ndvi                                                1.000000e+00   \n",
       "northward_wind_at_10_metres                         9.768605e+00   \n",
       "precipitation_amount_1hour_Accumulation             1.210319e-02   \n",
       "surface_air_pressure                                1.035296e+05   \n",
       "todays_fires                                        1.000000e+00   \n",
       "todays_frp                                          3.994280e+03   \n",
       "tomorrows_fires                                     1.000000e+00   \n",
       "tomorrows_frp                                       3.254170e+03   \n",
       "\n",
       "                                                             sum  \\\n",
       "air_pressure_at_mean_sea_level                      1.086883e+13   \n",
       "air_temperature_at_2_metres                         3.075701e+10   \n",
       "air_temperature_at_2_metres_1hour_Maximum           3.084825e+10   \n",
       "air_temperature_at_2_metres_1hour_Minimum           3.081405e+10   \n",
       "eastward_wind_at_10_metres                          8.441819e+06   \n",
       "elevation                                           9.471180e+10   \n",
       "integral_wrt_time_of_surface_direct_downwelling...  7.280323e+12   \n",
       "landcover                                           2.758116e+09   \n",
       "ndvi                                                4.794658e+07   \n",
       "northward_wind_at_10_metres                        -7.221049e+07   \n",
       "precipitation_amount_1hour_Accumulation             5.920092e+03   \n",
       "surface_air_pressure                                1.026267e+13   \n",
       "todays_fires                                        3.336848e+06   \n",
       "todays_frp                                          6.523366e+07   \n",
       "tomorrows_fires                                     2.525092e+06   \n",
       "tomorrows_frp                                       4.337705e+07   \n",
       "\n",
       "                                                             mean  \\\n",
       "air_pressure_at_mean_sea_level                      101113.533971   \n",
       "air_temperature_at_2_metres                            285.993158   \n",
       "air_temperature_at_2_metres_1hour_Maximum              286.907125   \n",
       "air_temperature_at_2_metres_1hour_Minimum              286.447142   \n",
       "eastward_wind_at_10_metres                               0.078487   \n",
       "elevation                                              880.306023   \n",
       "integral_wrt_time_of_surface_direct_downwelling...   67677.819355   \n",
       "landcover                                               25.635517   \n",
       "ndvi                                                     0.450878   \n",
       "northward_wind_at_10_metres                             -0.671243   \n",
       "precipitation_amount_1hour_Accumulation                  0.000055   \n",
       "surface_air_pressure                                 95401.672515   \n",
       "todays_fires                                             0.031013   \n",
       "todays_frp                                               0.606277   \n",
       "tomorrows_fires                                          0.023468   \n",
       "tomorrows_frp                                            0.403137   \n",
       "\n",
       "                                                       nan count  \n",
       "air_pressure_at_mean_sea_level                      3.995783e+05  \n",
       "air_temperature_at_2_metres                         8.188393e+03  \n",
       "air_temperature_at_2_metres_1hour_Maximum           7.987091e+03  \n",
       "air_temperature_at_2_metres_1hour_Minimum           8.045231e+03  \n",
       "eastward_wind_at_10_metres                          4.382893e+03  \n",
       "elevation                                           4.356310e+06  \n",
       "integral_wrt_time_of_surface_direct_downwelling...  5.665472e+07  \n",
       "landcover                                           5.395683e+05  \n",
       "ndvi                                                5.142470e+03  \n",
       "northward_wind_at_10_metres                         4.463459e+03  \n",
       "precipitation_amount_1hour_Accumulation             3.426148e-01  \n",
       "surface_air_pressure                                7.031786e+06  \n",
       "todays_fires                                        4.089547e+03  \n",
       "todays_frp                                          1.507838e+05  \n",
       "tomorrows_fires                                     3.196706e+03  \n",
       "tomorrows_frp                                       9.883623e+04  "
      ]
     },
     "execution_count": 29,
     "metadata": {},
     "output_type": "execute_result"
    }
   ],
   "source": [
    "for_table_pd"
   ]
  },
  {
   "cell_type": "code",
   "execution_count": 28,
   "id": "5100ba98-4dc6-448f-a3f7-d29595002338",
   "metadata": {},
   "outputs": [],
   "source": [
    "for_table_pd.to_csv('stats_table.csv')"
   ]
  },
  {
   "cell_type": "markdown",
   "id": "59f4a913-a45a-458b-b498-f9e442c9dcd7",
   "metadata": {},
   "source": [
    "# Plot Histograms for Important Features"
   ]
  },
  {
   "cell_type": "code",
   "execution_count": 18,
   "id": "e506e648-0ce0-47c2-b93c-fe192903ea69",
   "metadata": {},
   "outputs": [
    {
     "data": {
      "image/png": "[encoded data removed]",
      "text/plain": [
       "<Figure size 432x288 with 1 Axes>"
      ]
     },
     "metadata": {
      "needs_background": "light"
     },
     "output_type": "display_data"
    }
   ],
   "source": [
    "import matplotlib.pyplot as plt\n",
    "elevation_stats= stats[stats['feature'] == 'elevation']\n",
    "plt.hist(elevation_stats['mean'], bins = 50, color = 'k', label = 'mean pixel value')\n",
    "plt.hist(elevation_stats['max'], bins = 50, color = 'r', label = 'max pixel value')\n",
    "plt.hist(elevation_stats['min'], bins = 50, color = 'b', label = 'min pixel value')\n",
    "plt.xlabel('Elevation (m)')\n",
    "plt.ylabel('Frequency')\n",
    "plt.legend()\n",
    "plt.savefig('figures/elevation.png', dpi=250)"
   ]
  },
  {
   "cell_type": "code",
   "execution_count": 19,
   "id": "7870432c-ddc5-4146-b717-743f7b204ceb",
   "metadata": {},
   "outputs": [
    {
     "data": {
      "image/png": "[encoded data removed]",
      "text/plain": [
       "<Figure size 432x288 with 1 Axes>"
      ]
     },
     "metadata": {
      "needs_background": "light"
     },
     "output_type": "display_data"
    }
   ],
   "source": [
    "ndvi_stats = stats[stats['feature'] == 'ndvi']\n",
    "plt.hist(ndvi_stats['mean'], bins = 50, color = 'k', label = 'mean pixel value')\n",
    "plt.hist(ndvi_stats['max'], bins = 50, color = 'r', label = 'max pixel value')\n",
    "plt.hist(ndvi_stats['min'], bins = 50, color = 'b', label = 'min pixel value')\n",
    "plt.xlabel('NDVI (no units)')\n",
    "plt.ylabel('Frequency')\n",
    "plt.legend()\n",
    "plt.savefig('figures/ndvi.png', dpi=250)"
   ]
  },
  {
   "cell_type": "code",
   "execution_count": 20,
   "id": "f3788a1a-73dd-4d93-87a5-1fcaf983f6ba",
   "metadata": {},
   "outputs": [
    {
     "data": {
      "image/png": "[encoded data removed]",
      "text/plain": [
       "<Figure size 432x288 with 1 Axes>"
      ]
     },
     "metadata": {
      "needs_background": "light"
     },
     "output_type": "display_data"
    }
   ],
   "source": [
    "temp_stats = stats[stats['feature'] == 'air_temperature_at_2_metres_1hour_Minimum']\n",
    "plt.hist(temp_stats['mean'], bins = 50, color = 'k', label = 'mean pixel value')\n",
    "plt.hist(temp_stats['max'], bins = 50, color = 'r', label = 'max pixel value')\n",
    "plt.hist(temp_stats['min'], bins = 50, color = 'b', label = 'min pixel value')\n",
    "plt.xlabel('1 Hour Minimum Air Temperature at 2m (K)')\n",
    "plt.ylabel('Frequency')\n",
    "plt.legend()\n",
    "plt.savefig('figures/min_temp_2.png', dpi=250)"
   ]
  },
  {
   "cell_type": "code",
   "execution_count": 21,
   "id": "bf9473d1-1f7d-40b5-a567-490475de367f",
   "metadata": {},
   "outputs": [
    {
     "data": {
      "image/png": "[encoded data removed]",
      "text/plain": [
       "<Figure size 432x288 with 1 Axes>"
      ]
     },
     "metadata": {
      "needs_background": "light"
     },
     "output_type": "display_data"
    }
   ],
   "source": [
    "pressure_stats = stats[stats['feature'] == 'surface_air_pressure']\n",
    "plt.hist(pressure_stats['mean'], bins = 50, color = 'k', label = 'mean pixel value')\n",
    "plt.hist(pressure_stats['max'], bins = 50, color = 'r', label = 'max pixel value')\n",
    "plt.hist(pressure_stats['min'], bins = 50, color = 'b', label = 'min pixel value')\n",
    "plt.xlabel('Surface Air Pressure (Pa)')\n",
    "plt.ylabel('Frequency')\n",
    "plt.legend()\n",
    "plt.savefig('figures/surface_pressure.png', dpi=250)"
   ]
  },
  {
   "cell_type": "code",
   "execution_count": 22,
   "id": "6694cc4f-3798-42a3-a497-3f4d1567309d",
   "metadata": {},
   "outputs": [
    {
     "data": {
      "image/png": "[encoded data removed]",
      "text/plain": [
       "<Figure size 432x288 with 1 Axes>"
      ]
     },
     "metadata": {
      "needs_background": "light"
     },
     "output_type": "display_data"
    }
   ],
   "source": [
    "land_stats = stats[stats['feature'] == 'landcover']\n",
    "plt.hist(land_stats['mean'], bins = 10, color = 'k', label = 'mean pixel value')\n",
    "#plt.hist(land_stats['max'], bins = 50, color = 'r', label = 'max pixel value')\n",
    "#plt.hist(land_stats['min'], bins = 50, color = 'b', label = 'min pixel value')\n",
    "plt.xlabel('Land Cover (no units)')\n",
    "plt.ylabel('Frequency')\n",
    "plt.legend()\n",
    "plt.savefig('figures/landcover.png', dpi=250)"
   ]
  },
  {
   "cell_type": "code",
   "execution_count": 23,
   "id": "720f7012-f6de-47bd-ae17-b2aa3a59afe8",
   "metadata": {},
   "outputs": [
    {
     "data": {
      "image/png": "[encoded data removed]",
      "text/plain": [
       "<Figure size 432x288 with 1 Axes>"
      ]
     },
     "metadata": {
      "needs_background": "light"
     },
     "output_type": "display_data"
    }
   ],
   "source": [
    "precip_stats = stats[stats['feature'] == 'precipitation_amount_1hour_Accumulation']\n",
    "plt.hist(precip_stats['mean'], bins = 50, color = 'k', label = 'mean pixel value')\n",
    "plt.hist(precip_stats['max'], bins = 50, color = 'r', label = 'max pixel value')\n",
    "plt.hist(precip_stats['min'], bins = 50, color = 'b', label = 'min pixel value')\n",
    "plt.xlabel('Precipitation in 1 Hour (m)')\n",
    "plt.ylabel('Frequency')\n",
    "plt.legend()\n",
    "plt.savefig('figures/precip.png', dpi=250)"
   ]
  },
  {
   "cell_type": "markdown",
   "id": "d50c812f-4808-466e-893f-d932dad02b31",
   "metadata": {},
   "source": [
    "# Create Pandas Dataframe for Fire Masks"
   ]
  },
  {
   "cell_type": "code",
   "execution_count": 32,
   "id": "ed2473ad-5dd1-4641-a3ef-fd4cf4eb0b6e",
   "metadata": {},
   "outputs": [],
   "source": [
    "fires_today = stats[stats['feature'] == 'todays_fires'].filter(['sample_id', 'sum'])"
   ]
  },
  {
   "cell_type": "code",
   "execution_count": 33,
   "id": "28febbb2-32ab-4219-9176-4fad656e82c7",
   "metadata": {},
   "outputs": [],
   "source": [
    "fires_tomorrow = stats[stats['feature'] == 'tomorrows_fires'].filter(['sample_id', 'sum'])"
   ]
  },
  {
   "cell_type": "code",
   "execution_count": 34,
   "id": "f8ec46a5-0306-4865-9759-4864430d58ec",
   "metadata": {},
   "outputs": [],
   "source": [
    "fires = pd.DataFrame()"
   ]
  },
  {
   "cell_type": "code",
   "execution_count": 35,
   "id": "b9d8641d-9aad-47eb-aff8-031c27f1257b",
   "metadata": {},
   "outputs": [],
   "source": [
    "fires['sample_id'] = fires_today['sample_id'].values"
   ]
  },
  {
   "cell_type": "code",
   "execution_count": 36,
   "id": "9fe99ff9-0d8e-451c-ad96-b9ffad6f0948",
   "metadata": {},
   "outputs": [],
   "source": [
    "fires['today_pixels'] = fires_today['sum'].values"
   ]
  },
  {
   "cell_type": "code",
   "execution_count": 37,
   "id": "69fce211-1132-4805-b92b-007da7063c05",
   "metadata": {},
   "outputs": [],
   "source": [
    "fires['tomorrow_pixels'] = fires_tomorrow['sum'].values"
   ]
  },
  {
   "cell_type": "code",
   "execution_count": 38,
   "id": "d794a1b9-4058-422a-b802-0e22964f15ae",
   "metadata": {},
   "outputs": [
    {
     "data": {
      "text/html": [
       "<div>\n",
       "<style scoped>\n",
       "    .dataframe tbody tr th:only-of-type {\n",
       "        vertical-align: middle;\n",
       "    }\n",
       "\n",
       "    .dataframe tbody tr th {\n",
       "        vertical-align: top;\n",
       "    }\n",
       "\n",
       "    .dataframe thead th {\n",
       "        text-align: right;\n",
       "    }\n",
       "</style>\n",
       "<table border=\"1\" class=\"dataframe\">\n",
       "  <thead>\n",
       "    <tr style=\"text-align: right;\">\n",
       "      <th></th>\n",
       "      <th>sample_id</th>\n",
       "      <th>today_pixels</th>\n",
       "      <th>tomorrow_pixels</th>\n",
       "    </tr>\n",
       "  </thead>\n",
       "  <tbody>\n",
       "    <tr>\n",
       "      <th>0</th>\n",
       "      <td>0</td>\n",
       "      <td>25.0</td>\n",
       "      <td>0.0</td>\n",
       "    </tr>\n",
       "    <tr>\n",
       "      <th>1</th>\n",
       "      <td>1</td>\n",
       "      <td>19.0</td>\n",
       "      <td>2.0</td>\n",
       "    </tr>\n",
       "    <tr>\n",
       "      <th>2</th>\n",
       "      <td>10</td>\n",
       "      <td>23.0</td>\n",
       "      <td>0.0</td>\n",
       "    </tr>\n",
       "    <tr>\n",
       "      <th>3</th>\n",
       "      <td>100</td>\n",
       "      <td>39.0</td>\n",
       "      <td>0.0</td>\n",
       "    </tr>\n",
       "    <tr>\n",
       "      <th>4</th>\n",
       "      <td>10000</td>\n",
       "      <td>66.0</td>\n",
       "      <td>83.0</td>\n",
       "    </tr>\n",
       "    <tr>\n",
       "      <th>...</th>\n",
       "      <td>...</td>\n",
       "      <td>...</td>\n",
       "      <td>...</td>\n",
       "    </tr>\n",
       "    <tr>\n",
       "      <th>26262</th>\n",
       "      <td>9995</td>\n",
       "      <td>184.0</td>\n",
       "      <td>96.0</td>\n",
       "    </tr>\n",
       "    <tr>\n",
       "      <th>26263</th>\n",
       "      <td>9996</td>\n",
       "      <td>25.0</td>\n",
       "      <td>10.0</td>\n",
       "    </tr>\n",
       "    <tr>\n",
       "      <th>26264</th>\n",
       "      <td>9997</td>\n",
       "      <td>26.0</td>\n",
       "      <td>0.0</td>\n",
       "    </tr>\n",
       "    <tr>\n",
       "      <th>26265</th>\n",
       "      <td>9998</td>\n",
       "      <td>29.0</td>\n",
       "      <td>15.0</td>\n",
       "    </tr>\n",
       "    <tr>\n",
       "      <th>26266</th>\n",
       "      <td>9999</td>\n",
       "      <td>66.0</td>\n",
       "      <td>83.0</td>\n",
       "    </tr>\n",
       "  </tbody>\n",
       "</table>\n",
       "<p>26267 rows × 3 columns</p>\n",
       "</div>"
      ],
      "text/plain": [
       "       sample_id  today_pixels  tomorrow_pixels\n",
       "0              0          25.0              0.0\n",
       "1              1          19.0              2.0\n",
       "2             10          23.0              0.0\n",
       "3            100          39.0              0.0\n",
       "4          10000          66.0             83.0\n",
       "...          ...           ...              ...\n",
       "26262       9995         184.0             96.0\n",
       "26263       9996          25.0             10.0\n",
       "26264       9997          26.0              0.0\n",
       "26265       9998          29.0             15.0\n",
       "26266       9999          66.0             83.0\n",
       "\n",
       "[26267 rows x 3 columns]"
      ]
     },
     "execution_count": 38,
     "metadata": {},
     "output_type": "execute_result"
    }
   ],
   "source": [
    "fires"
   ]
  },
  {
   "cell_type": "markdown",
   "id": "1812c9f1-2c69-4fd1-a80a-5296c5db5f15",
   "metadata": {},
   "source": [
    "## Filter No/Smaller Fires from Dataset"
   ]
  },
  {
   "cell_type": "code",
   "execution_count": 39,
   "id": "56e165c8-9e73-4e7a-aeb8-7adeccdb2c50",
   "metadata": {},
   "outputs": [],
   "source": [
    "filtered_fires = fires[(fires['today_pixels'] >= 5) & (fires['tomorrow_pixels'] >= 5)]"
   ]
  },
  {
   "cell_type": "code",
   "execution_count": 40,
   "id": "7c155d3b-bff6-491d-8cf5-d63e6a84bf46",
   "metadata": {},
   "outputs": [
    {
     "data": {
      "text/html": [
       "<div>\n",
       "<style scoped>\n",
       "    .dataframe tbody tr th:only-of-type {\n",
       "        vertical-align: middle;\n",
       "    }\n",
       "\n",
       "    .dataframe tbody tr th {\n",
       "        vertical-align: top;\n",
       "    }\n",
       "\n",
       "    .dataframe thead th {\n",
       "        text-align: right;\n",
       "    }\n",
       "</style>\n",
       "<table border=\"1\" class=\"dataframe\">\n",
       "  <thead>\n",
       "    <tr style=\"text-align: right;\">\n",
       "      <th></th>\n",
       "      <th>sample_id</th>\n",
       "      <th>today_pixels</th>\n",
       "      <th>tomorrow_pixels</th>\n",
       "    </tr>\n",
       "  </thead>\n",
       "  <tbody>\n",
       "    <tr>\n",
       "      <th>4</th>\n",
       "      <td>10000</td>\n",
       "      <td>66.0</td>\n",
       "      <td>83.0</td>\n",
       "    </tr>\n",
       "    <tr>\n",
       "      <th>8</th>\n",
       "      <td>10004</td>\n",
       "      <td>119.0</td>\n",
       "      <td>301.0</td>\n",
       "    </tr>\n",
       "    <tr>\n",
       "      <th>9</th>\n",
       "      <td>10005</td>\n",
       "      <td>178.0</td>\n",
       "      <td>195.0</td>\n",
       "    </tr>\n",
       "    <tr>\n",
       "      <th>11</th>\n",
       "      <td>10007</td>\n",
       "      <td>96.0</td>\n",
       "      <td>82.0</td>\n",
       "    </tr>\n",
       "    <tr>\n",
       "      <th>12</th>\n",
       "      <td>10008</td>\n",
       "      <td>282.0</td>\n",
       "      <td>63.0</td>\n",
       "    </tr>\n",
       "    <tr>\n",
       "      <th>...</th>\n",
       "      <td>...</td>\n",
       "      <td>...</td>\n",
       "      <td>...</td>\n",
       "    </tr>\n",
       "    <tr>\n",
       "      <th>26261</th>\n",
       "      <td>9994</td>\n",
       "      <td>172.0</td>\n",
       "      <td>95.0</td>\n",
       "    </tr>\n",
       "    <tr>\n",
       "      <th>26262</th>\n",
       "      <td>9995</td>\n",
       "      <td>184.0</td>\n",
       "      <td>96.0</td>\n",
       "    </tr>\n",
       "    <tr>\n",
       "      <th>26263</th>\n",
       "      <td>9996</td>\n",
       "      <td>25.0</td>\n",
       "      <td>10.0</td>\n",
       "    </tr>\n",
       "    <tr>\n",
       "      <th>26265</th>\n",
       "      <td>9998</td>\n",
       "      <td>29.0</td>\n",
       "      <td>15.0</td>\n",
       "    </tr>\n",
       "    <tr>\n",
       "      <th>26266</th>\n",
       "      <td>9999</td>\n",
       "      <td>66.0</td>\n",
       "      <td>83.0</td>\n",
       "    </tr>\n",
       "  </tbody>\n",
       "</table>\n",
       "<p>21661 rows × 3 columns</p>\n",
       "</div>"
      ],
      "text/plain": [
       "       sample_id  today_pixels  tomorrow_pixels\n",
       "4          10000          66.0             83.0\n",
       "8          10004         119.0            301.0\n",
       "9          10005         178.0            195.0\n",
       "11         10007          96.0             82.0\n",
       "12         10008         282.0             63.0\n",
       "...          ...           ...              ...\n",
       "26261       9994         172.0             95.0\n",
       "26262       9995         184.0             96.0\n",
       "26263       9996          25.0             10.0\n",
       "26265       9998          29.0             15.0\n",
       "26266       9999          66.0             83.0\n",
       "\n",
       "[21661 rows x 3 columns]"
      ]
     },
     "execution_count": 40,
     "metadata": {},
     "output_type": "execute_result"
    }
   ],
   "source": [
    "filtered_fires"
   ]
  },
  {
   "cell_type": "markdown",
   "id": "9d9a7722-f127-43d0-9dfc-5cc50638f8c9",
   "metadata": {},
   "source": [
    "Save result to csv"
   ]
  },
  {
   "cell_type": "code",
   "execution_count": 160,
   "id": "e23ab930-0973-4a26-a553-3893fc4acd9c",
   "metadata": {},
   "outputs": [],
   "source": [
    "filtered_fires['sample_id'].to_csv('samples_large_fires.csv', index=False)"
   ]
  },
  {
   "cell_type": "markdown",
   "id": "d44e662d-0f2b-4ddc-a7e8-c828cd62f9f9",
   "metadata": {},
   "source": [
    "## Filter Samples Where the Fire Grows"
   ]
  },
  {
   "cell_type": "code",
   "execution_count": 42,
   "id": "948785bc-5fca-48cb-8c08-8a71e8f3ab43",
   "metadata": {},
   "outputs": [
    {
     "data": {
      "text/html": [
       "<div>\n",
       "<style scoped>\n",
       "    .dataframe tbody tr th:only-of-type {\n",
       "        vertical-align: middle;\n",
       "    }\n",
       "\n",
       "    .dataframe tbody tr th {\n",
       "        vertical-align: top;\n",
       "    }\n",
       "\n",
       "    .dataframe thead th {\n",
       "        text-align: right;\n",
       "    }\n",
       "</style>\n",
       "<table border=\"1\" class=\"dataframe\">\n",
       "  <thead>\n",
       "    <tr style=\"text-align: right;\">\n",
       "      <th></th>\n",
       "      <th>sample_id</th>\n",
       "      <th>today_pixels</th>\n",
       "      <th>tomorrow_pixels</th>\n",
       "    </tr>\n",
       "  </thead>\n",
       "  <tbody>\n",
       "    <tr>\n",
       "      <th>4</th>\n",
       "      <td>10000</td>\n",
       "      <td>66.0</td>\n",
       "      <td>83.0</td>\n",
       "    </tr>\n",
       "    <tr>\n",
       "      <th>8</th>\n",
       "      <td>10004</td>\n",
       "      <td>119.0</td>\n",
       "      <td>301.0</td>\n",
       "    </tr>\n",
       "    <tr>\n",
       "      <th>9</th>\n",
       "      <td>10005</td>\n",
       "      <td>178.0</td>\n",
       "      <td>195.0</td>\n",
       "    </tr>\n",
       "    <tr>\n",
       "      <th>14</th>\n",
       "      <td>10010</td>\n",
       "      <td>264.0</td>\n",
       "      <td>345.0</td>\n",
       "    </tr>\n",
       "    <tr>\n",
       "      <th>34</th>\n",
       "      <td>10030</td>\n",
       "      <td>30.0</td>\n",
       "      <td>82.0</td>\n",
       "    </tr>\n",
       "    <tr>\n",
       "      <th>...</th>\n",
       "      <td>...</td>\n",
       "      <td>...</td>\n",
       "      <td>...</td>\n",
       "    </tr>\n",
       "    <tr>\n",
       "      <th>26247</th>\n",
       "      <td>9981</td>\n",
       "      <td>52.0</td>\n",
       "      <td>78.0</td>\n",
       "    </tr>\n",
       "    <tr>\n",
       "      <th>26249</th>\n",
       "      <td>9983</td>\n",
       "      <td>30.0</td>\n",
       "      <td>66.0</td>\n",
       "    </tr>\n",
       "    <tr>\n",
       "      <th>26252</th>\n",
       "      <td>9986</td>\n",
       "      <td>28.0</td>\n",
       "      <td>30.0</td>\n",
       "    </tr>\n",
       "    <tr>\n",
       "      <th>26253</th>\n",
       "      <td>9987</td>\n",
       "      <td>18.0</td>\n",
       "      <td>66.0</td>\n",
       "    </tr>\n",
       "    <tr>\n",
       "      <th>26266</th>\n",
       "      <td>9999</td>\n",
       "      <td>66.0</td>\n",
       "      <td>83.0</td>\n",
       "    </tr>\n",
       "  </tbody>\n",
       "</table>\n",
       "<p>8620 rows × 3 columns</p>\n",
       "</div>"
      ],
      "text/plain": [
       "       sample_id  today_pixels  tomorrow_pixels\n",
       "4          10000          66.0             83.0\n",
       "8          10004         119.0            301.0\n",
       "9          10005         178.0            195.0\n",
       "14         10010         264.0            345.0\n",
       "34         10030          30.0             82.0\n",
       "...          ...           ...              ...\n",
       "26247       9981          52.0             78.0\n",
       "26249       9983          30.0             66.0\n",
       "26252       9986          28.0             30.0\n",
       "26253       9987          18.0             66.0\n",
       "26266       9999          66.0             83.0\n",
       "\n",
       "[8620 rows x 3 columns]"
      ]
     },
     "execution_count": 42,
     "metadata": {},
     "output_type": "execute_result"
    }
   ],
   "source": [
    "fires[(fires['tomorrow_pixels'] >= fires['today_pixels']) ]"
   ]
  },
  {
   "cell_type": "code",
   "execution_count": 43,
   "id": "f7b0fe4b-2607-49b4-89b2-ca3b6637d36f",
   "metadata": {},
   "outputs": [
    {
     "data": {
      "text/plain": [
       "0.3979502331378976"
      ]
     },
     "execution_count": 43,
     "metadata": {},
     "output_type": "execute_result"
    }
   ],
   "source": [
    "8620/21661"
   ]
  }
 ],
 "metadata": {
  "interpreter": {
   "hash": "aafdfdf2a477a891d5a071148c895ea18914d2262790416c664cd6c94df184b5"
  },
  "kernelspec": {
   "display_name": "default:Python",
   "language": "python",
   "name": "conda-env-default-py"
  },
  "language_info": {
   "codemirror_mode": {
    "name": "ipython",
    "version": 3
   },
   "file_extension": ".py",
   "mimetype": "text/x-python",
   "name": "python",
   "nbconvert_exporter": "python",
   "pygments_lexer": "ipython3",
   "version": "3.9.7"
  }
 },
 "nbformat": 4,
 "nbformat_minor": 5
}
